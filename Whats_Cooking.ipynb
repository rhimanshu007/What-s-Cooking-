{
 "cells": [
  {
   "cell_type": "markdown",
   "metadata": {
    "id": "6PEt-Ldq2cQ1"
   },
   "source": [
    "# What's Cooking (Kaggle Problem)"
   ]
  },
  {
   "cell_type": "markdown",
   "metadata": {
    "id": "g606JATW2cQ6"
   },
   "source": [
    "## Table of Content"
   ]
  },
  {
   "cell_type": "markdown",
   "metadata": {
    "id": "oxZAHncE2cQ8"
   },
   "source": [
    "* __Step 1: Problem Description__\n",
    "\n",
    "* __Step 2: Importing the Relevant Libraries__\n",
    "    \n",
    "* __Step 3: Loading Data__\n",
    "    \n",
    "* __Step 4: Exploratory Data Analysis__\n",
    "    \n",
    "* __Step 5: Preprocessing__\n",
    "    \n",
    "* __Step 6: Merging Train and Test Data for TF vectorization__\n",
    "\n",
    "* __Step 7: Splitting data into train and validation__\n",
    "\n",
    "* __Step 8: Preperation For Model Building__\n",
    "\n",
    "* __Step 9: Building Classification Models__\n",
    "    "
   ]
  },
  {
   "cell_type": "markdown",
   "metadata": {
    "id": "jti0r81b2cQ9"
   },
   "source": [
    "## Problem Description"
   ]
  },
  {
   "cell_type": "markdown",
   "metadata": {
    "id": "hnAh7IW02cQ9"
   },
   "source": [
    "#### Use recipe ingredients to categorize the cuisine\n",
    "\n",
    "If you're in Northern California, you'll be walking past the inevitable bushels of leafy greens, spiked with dark purple kale and the bright pinks and yellows of chard. Across the world in South Korea, mounds of bright red kimchi greet you, while the smell of the sea draws your attention to squids squirming nearby. India’s market is perhaps the most colorful, awash in the rich hues and aromas of dozens of spices: turmeric, star anise, poppy seeds, and garam masala as far as the eye can see.\n",
    "\n",
    "Some of our strongest geographic and cultural associations are tied to a region's local foods. This playground competitions asks you to predict the category of a dish's cuisine given a list of its ingredients. "
   ]
  },
  {
   "cell_type": "markdown",
   "metadata": {
    "id": "F49j0hxX2cQ-"
   },
   "source": [
    "## Importing the relevant libraries"
   ]
  },
  {
   "cell_type": "code",
   "execution_count": 1,
   "metadata": {
    "colab": {
     "base_uri": "https://localhost:8080/"
    },
    "executionInfo": {
     "elapsed": 24090,
     "status": "ok",
     "timestamp": 1622669576826,
     "user": {
      "displayName": "Himanshu Rai",
      "photoUrl": "",
      "userId": "05553162241328899148"
     },
     "user_tz": -330
    },
    "id": "3jlBQYTU2kXt",
    "outputId": "8daea082-b4ab-4fe8-fade-a422f02cfac5"
   },
   "outputs": [
    {
     "name": "stdout",
     "output_type": "stream",
     "text": [
      "Mounted at /content/drive\n"
     ]
    }
   ],
   "source": [
    "from google.colab import drive\n",
    "drive.mount('/content/drive')"
   ]
  },
  {
   "cell_type": "code",
   "execution_count": 2,
   "metadata": {
    "colab": {
     "base_uri": "https://localhost:8080/"
    },
    "executionInfo": {
     "elapsed": 1540,
     "status": "ok",
     "timestamp": 1622669580610,
     "user": {
      "displayName": "Himanshu Rai",
      "photoUrl": "",
      "userId": "05553162241328899148"
     },
     "user_tz": -330
    },
    "id": "P8V93Cwp2cQ-",
    "outputId": "56430302-2f22-46ab-9aea-cb497c9fbbbd"
   },
   "outputs": [
    {
     "name": "stderr",
     "output_type": "stream",
     "text": [
      "/usr/local/lib/python3.7/dist-packages/sklearn/externals/six.py:31: FutureWarning: The module is deprecated in version 0.21 and will be removed in version 0.23 since we've dropped support for Python 2.7. Please rely on the official version of six (https://pypi.org/project/six/).\n",
      "  \"(https://pypi.org/project/six/).\", FutureWarning)\n",
      "/usr/local/lib/python3.7/dist-packages/sklearn/utils/deprecation.py:144: FutureWarning: The sklearn.neighbors.base module is  deprecated in version 0.22 and will be removed in version 0.24. The corresponding classes / functions should instead be imported from sklearn.neighbors. Anything that cannot be imported from sklearn.neighbors is now part of the private API.\n",
      "  warnings.warn(message, FutureWarning)\n"
     ]
    }
   ],
   "source": [
    "import numpy as np\n",
    "import pandas as pd\n",
    "\n",
    "import datetime\n",
    "\n",
    "from sklearn.model_selection import train_test_split\n",
    "from sklearn.feature_extraction.text import TfidfVectorizer,CountVectorizer\n",
    "from sklearn.metrics import accuracy_score,recall_score,precision_score,f1_score \n",
    "from sklearn.metrics import classification_report, confusion_matrix\n",
    "\n",
    "from sklearn.linear_model import LogisticRegression\n",
    "from sklearn.naive_bayes import GaussianNB\n",
    "from sklearn.linear_model import RidgeClassifierCV\n",
    "from sklearn.svm import SVC\n",
    "from sklearn import svm\n",
    "from sklearn.neighbors import KNeighborsClassifier\n",
    "from sklearn.model_selection import GridSearchCV\n",
    "from sklearn.tree import DecisionTreeClassifier\n",
    "from sklearn import tree\n",
    "from sklearn.ensemble import AdaBoostClassifier\n",
    "from imblearn.over_sampling import SMOTE\n",
    "\n",
    "import matplotlib.pyplot as plt\n",
    "import seaborn as sns\n",
    "%matplotlib inline\n",
    "\n",
    "import warnings\n",
    "warnings.filterwarnings(\"ignore\")"
   ]
  },
  {
   "cell_type": "markdown",
   "metadata": {
    "id": "3pMomtgT2cQ_"
   },
   "source": [
    "## Loading Data"
   ]
  },
  {
   "cell_type": "code",
   "execution_count": 3,
   "metadata": {
    "executionInfo": {
     "elapsed": 1642,
     "status": "ok",
     "timestamp": 1622669585394,
     "user": {
      "displayName": "Himanshu Rai",
      "photoUrl": "",
      "userId": "05553162241328899148"
     },
     "user_tz": -330
    },
    "id": "_2LE0dxT2cQ_"
   },
   "outputs": [],
   "source": [
    "train_data=pd.read_json(\"/content/drive/MyDrive/Whats_Cooking/train.json\")"
   ]
  },
  {
   "cell_type": "code",
   "execution_count": 4,
   "metadata": {
    "executionInfo": {
     "elapsed": 684,
     "status": "ok",
     "timestamp": 1622669586076,
     "user": {
      "displayName": "Himanshu Rai",
      "photoUrl": "",
      "userId": "05553162241328899148"
     },
     "user_tz": -330
    },
    "id": "Ao4RkOeD2cQ_"
   },
   "outputs": [],
   "source": [
    "test_data=pd.read_json('/content/drive/MyDrive/Whats_Cooking/test.json')"
   ]
  },
  {
   "cell_type": "markdown",
   "metadata": {
    "id": "NVbK2BO52cRA"
   },
   "source": [
    "## Exploratory Data Analysis"
   ]
  },
  {
   "cell_type": "code",
   "execution_count": 5,
   "metadata": {
    "colab": {
     "base_uri": "https://localhost:8080/",
     "height": 198
    },
    "executionInfo": {
     "elapsed": 682,
     "status": "ok",
     "timestamp": 1622669588042,
     "user": {
      "displayName": "Himanshu Rai",
      "photoUrl": "",
      "userId": "05553162241328899148"
     },
     "user_tz": -330
    },
    "id": "wd340lB32cRA",
    "outputId": "a2db5a0b-537b-4869-9394-26cc27514743"
   },
   "outputs": [
    {
     "data": {
      "text/html": [
       "<div>\n",
       "<style scoped>\n",
       "    .dataframe tbody tr th:only-of-type {\n",
       "        vertical-align: middle;\n",
       "    }\n",
       "\n",
       "    .dataframe tbody tr th {\n",
       "        vertical-align: top;\n",
       "    }\n",
       "\n",
       "    .dataframe thead th {\n",
       "        text-align: right;\n",
       "    }\n",
       "</style>\n",
       "<table border=\"1\" class=\"dataframe\">\n",
       "  <thead>\n",
       "    <tr style=\"text-align: right;\">\n",
       "      <th></th>\n",
       "      <th>id</th>\n",
       "      <th>cuisine</th>\n",
       "      <th>ingredients</th>\n",
       "    </tr>\n",
       "  </thead>\n",
       "  <tbody>\n",
       "    <tr>\n",
       "      <th>0</th>\n",
       "      <td>10259</td>\n",
       "      <td>greek</td>\n",
       "      <td>[romaine lettuce, black olives, grape tomatoes...</td>\n",
       "    </tr>\n",
       "    <tr>\n",
       "      <th>1</th>\n",
       "      <td>25693</td>\n",
       "      <td>southern_us</td>\n",
       "      <td>[plain flour, ground pepper, salt, tomatoes, g...</td>\n",
       "    </tr>\n",
       "    <tr>\n",
       "      <th>2</th>\n",
       "      <td>20130</td>\n",
       "      <td>filipino</td>\n",
       "      <td>[eggs, pepper, salt, mayonaise, cooking oil, g...</td>\n",
       "    </tr>\n",
       "    <tr>\n",
       "      <th>3</th>\n",
       "      <td>22213</td>\n",
       "      <td>indian</td>\n",
       "      <td>[water, vegetable oil, wheat, salt]</td>\n",
       "    </tr>\n",
       "    <tr>\n",
       "      <th>4</th>\n",
       "      <td>13162</td>\n",
       "      <td>indian</td>\n",
       "      <td>[black pepper, shallots, cornflour, cayenne pe...</td>\n",
       "    </tr>\n",
       "  </tbody>\n",
       "</table>\n",
       "</div>"
      ],
      "text/plain": [
       "      id      cuisine                                        ingredients\n",
       "0  10259        greek  [romaine lettuce, black olives, grape tomatoes...\n",
       "1  25693  southern_us  [plain flour, ground pepper, salt, tomatoes, g...\n",
       "2  20130     filipino  [eggs, pepper, salt, mayonaise, cooking oil, g...\n",
       "3  22213       indian                [water, vegetable oil, wheat, salt]\n",
       "4  13162       indian  [black pepper, shallots, cornflour, cayenne pe..."
      ]
     },
     "execution_count": 5,
     "metadata": {
      "tags": []
     },
     "output_type": "execute_result"
    }
   ],
   "source": [
    "train_data.head()"
   ]
  },
  {
   "cell_type": "code",
   "execution_count": 6,
   "metadata": {
    "colab": {
     "base_uri": "https://localhost:8080/"
    },
    "executionInfo": {
     "elapsed": 48,
     "status": "ok",
     "timestamp": 1622669588045,
     "user": {
      "displayName": "Himanshu Rai",
      "photoUrl": "",
      "userId": "05553162241328899148"
     },
     "user_tz": -330
    },
    "id": "q_hK0Cvh2cRB",
    "outputId": "ba9ec24f-cd29-472b-8ffc-99d73bc1c1a7"
   },
   "outputs": [
    {
     "data": {
      "text/plain": [
       "pandas.core.frame.DataFrame"
      ]
     },
     "execution_count": 6,
     "metadata": {
      "tags": []
     },
     "output_type": "execute_result"
    }
   ],
   "source": [
    "type(train_data)"
   ]
  },
  {
   "cell_type": "code",
   "execution_count": 7,
   "metadata": {
    "colab": {
     "base_uri": "https://localhost:8080/"
    },
    "executionInfo": {
     "elapsed": 48,
     "status": "ok",
     "timestamp": 1622669588047,
     "user": {
      "displayName": "Himanshu Rai",
      "photoUrl": "",
      "userId": "05553162241328899148"
     },
     "user_tz": -330
    },
    "id": "7V3uH0c82cRC",
    "outputId": "3a4a8a97-2cbd-4289-aed4-bf3f11f7179f"
   },
   "outputs": [
    {
     "data": {
      "text/plain": [
       "(39774, 3)"
      ]
     },
     "execution_count": 7,
     "metadata": {
      "tags": []
     },
     "output_type": "execute_result"
    }
   ],
   "source": [
    "train_data.shape"
   ]
  },
  {
   "cell_type": "code",
   "execution_count": 8,
   "metadata": {
    "colab": {
     "base_uri": "https://localhost:8080/"
    },
    "executionInfo": {
     "elapsed": 49,
     "status": "ok",
     "timestamp": 1622669588049,
     "user": {
      "displayName": "Himanshu Rai",
      "photoUrl": "",
      "userId": "05553162241328899148"
     },
     "user_tz": -330
    },
    "id": "-BZFFRYX2cRC",
    "outputId": "d1afaf5c-3519-4ae9-81e1-31d990e8cf50"
   },
   "outputs": [
    {
     "data": {
      "text/plain": [
       "(9944, 2)"
      ]
     },
     "execution_count": 8,
     "metadata": {
      "tags": []
     },
     "output_type": "execute_result"
    }
   ],
   "source": [
    "test_data.shape"
   ]
  },
  {
   "cell_type": "code",
   "execution_count": 9,
   "metadata": {
    "colab": {
     "base_uri": "https://localhost:8080/",
     "height": 198
    },
    "executionInfo": {
     "elapsed": 50,
     "status": "ok",
     "timestamp": 1622669588051,
     "user": {
      "displayName": "Himanshu Rai",
      "photoUrl": "",
      "userId": "05553162241328899148"
     },
     "user_tz": -330
    },
    "id": "iCmwW51Q2cRD",
    "outputId": "cc5270d3-3ed9-4392-eb94-1e6e288e7ad5"
   },
   "outputs": [
    {
     "data": {
      "text/html": [
       "<div>\n",
       "<style scoped>\n",
       "    .dataframe tbody tr th:only-of-type {\n",
       "        vertical-align: middle;\n",
       "    }\n",
       "\n",
       "    .dataframe tbody tr th {\n",
       "        vertical-align: top;\n",
       "    }\n",
       "\n",
       "    .dataframe thead th {\n",
       "        text-align: right;\n",
       "    }\n",
       "</style>\n",
       "<table border=\"1\" class=\"dataframe\">\n",
       "  <thead>\n",
       "    <tr style=\"text-align: right;\">\n",
       "      <th></th>\n",
       "      <th>id</th>\n",
       "      <th>ingredients</th>\n",
       "    </tr>\n",
       "  </thead>\n",
       "  <tbody>\n",
       "    <tr>\n",
       "      <th>0</th>\n",
       "      <td>18009</td>\n",
       "      <td>[baking powder, eggs, all-purpose flour, raisi...</td>\n",
       "    </tr>\n",
       "    <tr>\n",
       "      <th>1</th>\n",
       "      <td>28583</td>\n",
       "      <td>[sugar, egg yolks, corn starch, cream of tarta...</td>\n",
       "    </tr>\n",
       "    <tr>\n",
       "      <th>2</th>\n",
       "      <td>41580</td>\n",
       "      <td>[sausage links, fennel bulb, fronds, olive oil...</td>\n",
       "    </tr>\n",
       "    <tr>\n",
       "      <th>3</th>\n",
       "      <td>29752</td>\n",
       "      <td>[meat cuts, file powder, smoked sausage, okra,...</td>\n",
       "    </tr>\n",
       "    <tr>\n",
       "      <th>4</th>\n",
       "      <td>35687</td>\n",
       "      <td>[ground black pepper, salt, sausage casings, l...</td>\n",
       "    </tr>\n",
       "  </tbody>\n",
       "</table>\n",
       "</div>"
      ],
      "text/plain": [
       "      id                                        ingredients\n",
       "0  18009  [baking powder, eggs, all-purpose flour, raisi...\n",
       "1  28583  [sugar, egg yolks, corn starch, cream of tarta...\n",
       "2  41580  [sausage links, fennel bulb, fronds, olive oil...\n",
       "3  29752  [meat cuts, file powder, smoked sausage, okra,...\n",
       "4  35687  [ground black pepper, salt, sausage casings, l..."
      ]
     },
     "execution_count": 9,
     "metadata": {
      "tags": []
     },
     "output_type": "execute_result"
    }
   ],
   "source": [
    "test_data.head()"
   ]
  },
  {
   "cell_type": "markdown",
   "metadata": {
    "id": "2yHrsPIY2cRE"
   },
   "source": [
    "### Anlysing Target Column"
   ]
  },
  {
   "cell_type": "code",
   "execution_count": 10,
   "metadata": {
    "colab": {
     "base_uri": "https://localhost:8080/"
    },
    "executionInfo": {
     "elapsed": 49,
     "status": "ok",
     "timestamp": 1622669588052,
     "user": {
      "displayName": "Himanshu Rai",
      "photoUrl": "",
      "userId": "05553162241328899148"
     },
     "user_tz": -330
    },
    "id": "v_bXbCKH2cRE",
    "outputId": "893cf236-acbf-4741-ade6-14624f1dec5d"
   },
   "outputs": [
    {
     "name": "stdout",
     "output_type": "stream",
     "text": [
      "The count distribution target classes is as below:\n"
     ]
    },
    {
     "data": {
      "text/plain": [
       "italian         7838\n",
       "mexican         6438\n",
       "southern_us     4320\n",
       "indian          3003\n",
       "chinese         2673\n",
       "french          2646\n",
       "cajun_creole    1546\n",
       "thai            1539\n",
       "japanese        1423\n",
       "greek           1175\n",
       "spanish          989\n",
       "korean           830\n",
       "vietnamese       825\n",
       "moroccan         821\n",
       "british          804\n",
       "filipino         755\n",
       "irish            667\n",
       "jamaican         526\n",
       "russian          489\n",
       "brazilian        467\n",
       "Name: cuisine, dtype: int64"
      ]
     },
     "execution_count": 10,
     "metadata": {
      "tags": []
     },
     "output_type": "execute_result"
    }
   ],
   "source": [
    "print(\"The count distribution target classes is as below:\")\n",
    "\n",
    "train_data['cuisine'].value_counts()"
   ]
  },
  {
   "cell_type": "code",
   "execution_count": 11,
   "metadata": {
    "colab": {
     "base_uri": "https://localhost:8080/"
    },
    "executionInfo": {
     "elapsed": 49,
     "status": "ok",
     "timestamp": 1622669588053,
     "user": {
      "displayName": "Himanshu Rai",
      "photoUrl": "",
      "userId": "05553162241328899148"
     },
     "user_tz": -330
    },
    "id": "Zo8HknV12cRE",
    "outputId": "9bdff294-c554-4650-e350-91a708aace17"
   },
   "outputs": [
    {
     "name": "stdout",
     "output_type": "stream",
     "text": [
      "The percentage distribution target classes is as below:\n"
     ]
    },
    {
     "data": {
      "text/plain": [
       "italian         0.197063\n",
       "mexican         0.161865\n",
       "southern_us     0.108614\n",
       "indian          0.075502\n",
       "chinese         0.067205\n",
       "french          0.066526\n",
       "cajun_creole    0.038870\n",
       "thai            0.038694\n",
       "japanese        0.035777\n",
       "greek           0.029542\n",
       "spanish         0.024865\n",
       "korean          0.020868\n",
       "vietnamese      0.020742\n",
       "moroccan        0.020642\n",
       "british         0.020214\n",
       "filipino        0.018982\n",
       "irish           0.016770\n",
       "jamaican        0.013225\n",
       "russian         0.012294\n",
       "brazilian       0.011741\n",
       "Name: cuisine, dtype: float64"
      ]
     },
     "execution_count": 11,
     "metadata": {
      "tags": []
     },
     "output_type": "execute_result"
    }
   ],
   "source": [
    "print(\"The percentage distribution target classes is as below:\")\n",
    "\n",
    "train_data['cuisine'].value_counts('1')"
   ]
  },
  {
   "cell_type": "code",
   "execution_count": 12,
   "metadata": {
    "colab": {
     "base_uri": "https://localhost:8080/",
     "height": 615
    },
    "executionInfo": {
     "elapsed": 1384,
     "status": "ok",
     "timestamp": 1622669589391,
     "user": {
      "displayName": "Himanshu Rai",
      "photoUrl": "",
      "userId": "05553162241328899148"
     },
     "user_tz": -330
    },
    "id": "wHA4Nzqd2cRF",
    "outputId": "fd0c2636-0de4-4ee1-b404-cf187ab18eef"
   },
   "outputs": [
    {
     "data": {
      "image/png": "[encoded data removed]",
      "text/plain": [
       "<Figure size 1296x720 with 1 Axes>"
      ]
     },
     "metadata": {
      "needs_background": "light",
      "tags": []
     },
     "output_type": "display_data"
    }
   ],
   "source": [
    "## Custom Function for Bar Plots\n",
    "\n",
    "def barplot(column,df):\n",
    "    plt.figure(figsize = (18, 10))\n",
    "    bar_plot1 = sns.countplot(x=column, data=df)\n",
    "    \n",
    "    total = len(df[column])\n",
    "    for p in bar_plot1.patches:\n",
    "        percentage = '{:.2f}%'.format(100 * p.get_height()/total)\n",
    "        height = p.get_height()\n",
    "        bar_plot1.text(p.get_x()+ p.get_width()/2, height + 400, percentage, ha=\"center\")\n",
    "\n",
    "barplot(\"cuisine\",train_data)"
   ]
  },
  {
   "cell_type": "markdown",
   "metadata": {
    "id": "2jLt4KqV2cRG"
   },
   "source": [
    "# Preprocessing"
   ]
  },
  {
   "cell_type": "code",
   "execution_count": 13,
   "metadata": {
    "colab": {
     "base_uri": "https://localhost:8080/"
    },
    "executionInfo": {
     "elapsed": 616,
     "status": "ok",
     "timestamp": 1622669591887,
     "user": {
      "displayName": "Himanshu Rai",
      "photoUrl": "",
      "userId": "05553162241328899148"
     },
     "user_tz": -330
    },
    "id": "-dbJ_lfr2cRH",
    "outputId": "80f702ee-acb8-40bc-d3ae-a87db0287e0c"
   },
   "outputs": [
    {
     "data": {
      "text/plain": [
       "0    [romaine lettuce, black olives, grape tomatoes...\n",
       "Name: ingredients, dtype: object"
      ]
     },
     "execution_count": 13,
     "metadata": {
      "tags": []
     },
     "output_type": "execute_result"
    }
   ],
   "source": [
    "train_data.ingredients.head(1)"
   ]
  },
  {
   "cell_type": "code",
   "execution_count": 14,
   "metadata": {
    "executionInfo": {
     "elapsed": 977,
     "status": "ok",
     "timestamp": 1622669592859,
     "user": {
      "displayName": "Himanshu Rai",
      "photoUrl": "",
      "userId": "05553162241328899148"
     },
     "user_tz": -330
    },
    "id": "bTGjU2672cRI"
   },
   "outputs": [],
   "source": [
    "train_data.ingredients=train_data.ingredients.apply(' '.join)\n",
    "test_data.ingredients=test_data.ingredients.apply(' '.join)"
   ]
  },
  {
   "cell_type": "code",
   "execution_count": 15,
   "metadata": {
    "colab": {
     "base_uri": "https://localhost:8080/"
    },
    "executionInfo": {
     "elapsed": 36,
     "status": "ok",
     "timestamp": 1622669592860,
     "user": {
      "displayName": "Himanshu Rai",
      "photoUrl": "",
      "userId": "05553162241328899148"
     },
     "user_tz": -330
    },
    "id": "g9ibt92e2cRI",
    "outputId": "2e39b45c-9f67-43e2-dac5-3ea6c02428d2"
   },
   "outputs": [
    {
     "data": {
      "text/plain": [
       "(39774, 3)"
      ]
     },
     "execution_count": 15,
     "metadata": {
      "tags": []
     },
     "output_type": "execute_result"
    }
   ],
   "source": [
    "train_data.shape"
   ]
  },
  {
   "cell_type": "markdown",
   "metadata": {
    "id": "dosMZ3Bz2cRI"
   },
   "source": [
    "### Adding Train and Test data"
   ]
  },
  {
   "cell_type": "code",
   "execution_count": 16,
   "metadata": {
    "executionInfo": {
     "elapsed": 35,
     "status": "ok",
     "timestamp": 1622669592862,
     "user": {
      "displayName": "Himanshu Rai",
      "photoUrl": "",
      "userId": "05553162241328899148"
     },
     "user_tz": -330
    },
    "id": "o7Qy4T-d2cRJ"
   },
   "outputs": [],
   "source": [
    "ingredient = train_data.ingredients"
   ]
  },
  {
   "cell_type": "code",
   "execution_count": 17,
   "metadata": {
    "colab": {
     "base_uri": "https://localhost:8080/"
    },
    "executionInfo": {
     "elapsed": 36,
     "status": "ok",
     "timestamp": 1622669592864,
     "user": {
      "displayName": "Himanshu Rai",
      "photoUrl": "",
      "userId": "05553162241328899148"
     },
     "user_tz": -330
    },
    "id": "YE9zzHYi2cRJ",
    "outputId": "881789ab-9f05-4f83-ecd7-83d2d2e6928e"
   },
   "outputs": [
    {
     "data": {
      "text/plain": [
       "pandas.core.series.Series"
      ]
     },
     "execution_count": 17,
     "metadata": {
      "tags": []
     },
     "output_type": "execute_result"
    }
   ],
   "source": [
    "type(ingredient)"
   ]
  },
  {
   "cell_type": "code",
   "execution_count": 18,
   "metadata": {
    "colab": {
     "base_uri": "https://localhost:8080/"
    },
    "executionInfo": {
     "elapsed": 32,
     "status": "ok",
     "timestamp": 1622669592865,
     "user": {
      "displayName": "Himanshu Rai",
      "photoUrl": "",
      "userId": "05553162241328899148"
     },
     "user_tz": -330
    },
    "id": "HqXWyB2U2cRJ",
    "outputId": "e189a16a-44e9-46dd-d1d0-939ff6d52620"
   },
   "outputs": [
    {
     "data": {
      "text/plain": [
       "(39774,)"
      ]
     },
     "execution_count": 18,
     "metadata": {
      "tags": []
     },
     "output_type": "execute_result"
    }
   ],
   "source": [
    "ingredient.shape"
   ]
  },
  {
   "cell_type": "code",
   "execution_count": 19,
   "metadata": {
    "colab": {
     "base_uri": "https://localhost:8080/"
    },
    "executionInfo": {
     "elapsed": 31,
     "status": "ok",
     "timestamp": 1622669592866,
     "user": {
      "displayName": "Himanshu Rai",
      "photoUrl": "",
      "userId": "05553162241328899148"
     },
     "user_tz": -330
    },
    "id": "1ji7gC412cRJ",
    "outputId": "6d3f46f0-fa01-4703-b981-40ce33c828b7"
   },
   "outputs": [
    {
     "data": {
      "text/plain": [
       "0    romaine lettuce black olives grape tomatoes ga...\n",
       "1    plain flour ground pepper salt tomatoes ground...\n",
       "2    eggs pepper salt mayonaise cooking oil green c...\n",
       "3                       water vegetable oil wheat salt\n",
       "4    black pepper shallots cornflour cayenne pepper...\n",
       "Name: ingredients, dtype: object"
      ]
     },
     "execution_count": 19,
     "metadata": {
      "tags": []
     },
     "output_type": "execute_result"
    }
   ],
   "source": [
    "ingredient.head()"
   ]
  },
  {
   "cell_type": "code",
   "execution_count": 20,
   "metadata": {
    "colab": {
     "base_uri": "https://localhost:8080/",
     "height": 0
    },
    "executionInfo": {
     "elapsed": 31,
     "status": "ok",
     "timestamp": 1622669592867,
     "user": {
      "displayName": "Himanshu Rai",
      "photoUrl": "",
      "userId": "05553162241328899148"
     },
     "user_tz": -330
    },
    "id": "s18DmlxM2cRK",
    "outputId": "03544e96-a99c-4e41-8188-414e175d765a"
   },
   "outputs": [
    {
     "data": {
      "text/html": [
       "<div>\n",
       "<style scoped>\n",
       "    .dataframe tbody tr th:only-of-type {\n",
       "        vertical-align: middle;\n",
       "    }\n",
       "\n",
       "    .dataframe tbody tr th {\n",
       "        vertical-align: top;\n",
       "    }\n",
       "\n",
       "    .dataframe thead th {\n",
       "        text-align: right;\n",
       "    }\n",
       "</style>\n",
       "<table border=\"1\" class=\"dataframe\">\n",
       "  <thead>\n",
       "    <tr style=\"text-align: right;\">\n",
       "      <th></th>\n",
       "      <th>id</th>\n",
       "      <th>ingredients</th>\n",
       "    </tr>\n",
       "  </thead>\n",
       "  <tbody>\n",
       "    <tr>\n",
       "      <th>0</th>\n",
       "      <td>18009</td>\n",
       "      <td>baking powder eggs all-purpose flour raisins m...</td>\n",
       "    </tr>\n",
       "    <tr>\n",
       "      <th>1</th>\n",
       "      <td>28583</td>\n",
       "      <td>sugar egg yolks corn starch cream of tartar ba...</td>\n",
       "    </tr>\n",
       "    <tr>\n",
       "      <th>2</th>\n",
       "      <td>41580</td>\n",
       "      <td>sausage links fennel bulb fronds olive oil cub...</td>\n",
       "    </tr>\n",
       "    <tr>\n",
       "      <th>3</th>\n",
       "      <td>29752</td>\n",
       "      <td>meat cuts file powder smoked sausage okra shri...</td>\n",
       "    </tr>\n",
       "    <tr>\n",
       "      <th>4</th>\n",
       "      <td>35687</td>\n",
       "      <td>ground black pepper salt sausage casings leeks...</td>\n",
       "    </tr>\n",
       "  </tbody>\n",
       "</table>\n",
       "</div>"
      ],
      "text/plain": [
       "      id                                        ingredients\n",
       "0  18009  baking powder eggs all-purpose flour raisins m...\n",
       "1  28583  sugar egg yolks corn starch cream of tartar ba...\n",
       "2  41580  sausage links fennel bulb fronds olive oil cub...\n",
       "3  29752  meat cuts file powder smoked sausage okra shri...\n",
       "4  35687  ground black pepper salt sausage casings leeks..."
      ]
     },
     "execution_count": 20,
     "metadata": {
      "tags": []
     },
     "output_type": "execute_result"
    }
   ],
   "source": [
    "test_data.head()"
   ]
  },
  {
   "cell_type": "code",
   "execution_count": 21,
   "metadata": {
    "executionInfo": {
     "elapsed": 29,
     "status": "ok",
     "timestamp": 1622669592868,
     "user": {
      "displayName": "Himanshu Rai",
      "photoUrl": "",
      "userId": "05553162241328899148"
     },
     "user_tz": -330
    },
    "id": "nYjdnXoG2cRL"
   },
   "outputs": [],
   "source": [
    "# Concatenating train and test data wrt ingredients column\n",
    "data_full = pd.concat([test_data.ingredients, ingredient], ignore_index=True)"
   ]
  },
  {
   "cell_type": "code",
   "execution_count": 22,
   "metadata": {
    "colab": {
     "base_uri": "https://localhost:8080/"
    },
    "executionInfo": {
     "elapsed": 29,
     "status": "ok",
     "timestamp": 1622669592869,
     "user": {
      "displayName": "Himanshu Rai",
      "photoUrl": "",
      "userId": "05553162241328899148"
     },
     "user_tz": -330
    },
    "id": "Wf0Yaquz2cRM",
    "outputId": "5430681a-12e0-427b-fca6-653917b7edae"
   },
   "outputs": [
    {
     "data": {
      "text/plain": [
       "(49718,)"
      ]
     },
     "execution_count": 22,
     "metadata": {
      "tags": []
     },
     "output_type": "execute_result"
    }
   ],
   "source": [
    "data_full.shape"
   ]
  },
  {
   "cell_type": "code",
   "execution_count": 23,
   "metadata": {
    "colab": {
     "base_uri": "https://localhost:8080/"
    },
    "executionInfo": {
     "elapsed": 29,
     "status": "ok",
     "timestamp": 1622669592870,
     "user": {
      "displayName": "Himanshu Rai",
      "photoUrl": "",
      "userId": "05553162241328899148"
     },
     "user_tz": -330
    },
    "id": "tvVbjGmE2cRM",
    "outputId": "64374b62-fa44-463d-d00d-33b6c1f28d48"
   },
   "outputs": [
    {
     "data": {
      "text/plain": [
       "0    baking powder eggs all-purpose flour raisins m...\n",
       "1    sugar egg yolks corn starch cream of tartar ba...\n",
       "2    sausage links fennel bulb fronds olive oil cub...\n",
       "3    meat cuts file powder smoked sausage okra shri...\n",
       "4    ground black pepper salt sausage casings leeks...\n",
       "Name: ingredients, dtype: object"
      ]
     },
     "execution_count": 23,
     "metadata": {
      "tags": []
     },
     "output_type": "execute_result"
    }
   ],
   "source": [
    "data_full.head()"
   ]
  },
  {
   "cell_type": "code",
   "execution_count": 24,
   "metadata": {
    "executionInfo": {
     "elapsed": 29,
     "status": "ok",
     "timestamp": 1622669592872,
     "user": {
      "displayName": "Himanshu Rai",
      "photoUrl": "",
      "userId": "05553162241328899148"
     },
     "user_tz": -330
    },
    "id": "0uxsRdjM2cRN"
   },
   "outputs": [],
   "source": [
    "# Converting to dataframe\n",
    "data_full = pd.DataFrame(data_full)"
   ]
  },
  {
   "cell_type": "code",
   "execution_count": 25,
   "metadata": {
    "colab": {
     "base_uri": "https://localhost:8080/"
    },
    "executionInfo": {
     "elapsed": 29,
     "status": "ok",
     "timestamp": 1622669592873,
     "user": {
      "displayName": "Himanshu Rai",
      "photoUrl": "",
      "userId": "05553162241328899148"
     },
     "user_tz": -330
    },
    "id": "NXUrQb_D2cRN",
    "outputId": "0215527a-7436-415d-d3ed-463cba165a72"
   },
   "outputs": [
    {
     "data": {
      "text/plain": [
       "ingredients    romaine lettuce black olives grape tomatoes ga...\n",
       "Name: 9944, dtype: object"
      ]
     },
     "execution_count": 25,
     "metadata": {
      "tags": []
     },
     "output_type": "execute_result"
    }
   ],
   "source": [
    "data_full.iloc[9944,:]"
   ]
  },
  {
   "cell_type": "code",
   "execution_count": 26,
   "metadata": {
    "colab": {
     "base_uri": "https://localhost:8080/",
     "height": 0
    },
    "executionInfo": {
     "elapsed": 29,
     "status": "ok",
     "timestamp": 1622669592874,
     "user": {
      "displayName": "Himanshu Rai",
      "photoUrl": "",
      "userId": "05553162241328899148"
     },
     "user_tz": -330
    },
    "id": "z_H84ue_2cRN",
    "outputId": "9a299586-05cd-4447-ac09-01bf10b6c302",
    "scrolled": true
   },
   "outputs": [
    {
     "data": {
      "text/html": [
       "<div>\n",
       "<style scoped>\n",
       "    .dataframe tbody tr th:only-of-type {\n",
       "        vertical-align: middle;\n",
       "    }\n",
       "\n",
       "    .dataframe tbody tr th {\n",
       "        vertical-align: top;\n",
       "    }\n",
       "\n",
       "    .dataframe thead th {\n",
       "        text-align: right;\n",
       "    }\n",
       "</style>\n",
       "<table border=\"1\" class=\"dataframe\">\n",
       "  <thead>\n",
       "    <tr style=\"text-align: right;\">\n",
       "      <th></th>\n",
       "      <th>ingredients</th>\n",
       "    </tr>\n",
       "  </thead>\n",
       "  <tbody>\n",
       "    <tr>\n",
       "      <th>0</th>\n",
       "      <td>baking powder eggs all-purpose flour raisins m...</td>\n",
       "    </tr>\n",
       "    <tr>\n",
       "      <th>1</th>\n",
       "      <td>sugar egg yolks corn starch cream of tartar ba...</td>\n",
       "    </tr>\n",
       "    <tr>\n",
       "      <th>2</th>\n",
       "      <td>sausage links fennel bulb fronds olive oil cub...</td>\n",
       "    </tr>\n",
       "    <tr>\n",
       "      <th>3</th>\n",
       "      <td>meat cuts file powder smoked sausage okra shri...</td>\n",
       "    </tr>\n",
       "    <tr>\n",
       "      <th>4</th>\n",
       "      <td>ground black pepper salt sausage casings leeks...</td>\n",
       "    </tr>\n",
       "  </tbody>\n",
       "</table>\n",
       "</div>"
      ],
      "text/plain": [
       "                                         ingredients\n",
       "0  baking powder eggs all-purpose flour raisins m...\n",
       "1  sugar egg yolks corn starch cream of tartar ba...\n",
       "2  sausage links fennel bulb fronds olive oil cub...\n",
       "3  meat cuts file powder smoked sausage okra shri...\n",
       "4  ground black pepper salt sausage casings leeks..."
      ]
     },
     "execution_count": 26,
     "metadata": {
      "tags": []
     },
     "output_type": "execute_result"
    }
   ],
   "source": [
    "data_full.head()"
   ]
  },
  {
   "cell_type": "markdown",
   "metadata": {
    "id": "MfKrFzZQ2cRN"
   },
   "source": [
    "## Apply TF on full data so we can get same columns in Train Validation and Test"
   ]
  },
  {
   "cell_type": "code",
   "execution_count": 27,
   "metadata": {
    "executionInfo": {
     "elapsed": 605,
     "status": "ok",
     "timestamp": 1622669593452,
     "user": {
      "displayName": "Himanshu Rai",
      "photoUrl": "",
      "userId": "05553162241328899148"
     },
     "user_tz": -330
    },
    "id": "Ogfrnx0v2cRO"
   },
   "outputs": [],
   "source": [
    "# sklearn.feature_extraction.text.CountVectorizer - Convert a collection of text documents to a matrix of token counts\n",
    "tf_vectorizer_train = CountVectorizer(ngram_range=(1,1))\n",
    "t_data = tf_vectorizer_train.fit_transform(data_full.ingredients) # tfs are calculated by CountVectorizer's\n",
    "                                                                              # fit_transform()"
   ]
  },
  {
   "cell_type": "code",
   "execution_count": 28,
   "metadata": {
    "colab": {
     "base_uri": "https://localhost:8080/"
    },
    "executionInfo": {
     "elapsed": 5,
     "status": "ok",
     "timestamp": 1622669593453,
     "user": {
      "displayName": "Himanshu Rai",
      "photoUrl": "",
      "userId": "05553162241328899148"
     },
     "user_tz": -330
    },
    "id": "DOMLCoA32cRO",
    "outputId": "eabf6092-c9b2-458d-8262-ce2cf83f1b38"
   },
   "outputs": [
    {
     "data": {
      "text/plain": [
       "(49718, 3122)"
      ]
     },
     "execution_count": 28,
     "metadata": {
      "tags": []
     },
     "output_type": "execute_result"
    }
   ],
   "source": [
    "t_data.shape"
   ]
  },
  {
   "cell_type": "code",
   "execution_count": 29,
   "metadata": {
    "executionInfo": {
     "elapsed": 711,
     "status": "ok",
     "timestamp": 1622669594160,
     "user": {
      "displayName": "Himanshu Rai",
      "photoUrl": "",
      "userId": "05553162241328899148"
     },
     "user_tz": -330
    },
    "id": "yFGhm8r82cRO",
    "scrolled": false
   },
   "outputs": [],
   "source": [
    " # Array mapping from feature integer indices to feature name\n",
    "    \n",
    "t_data = pd.DataFrame(t_data.toarray(), columns= tf_vectorizer_train.get_feature_names())"
   ]
  },
  {
   "cell_type": "code",
   "execution_count": 30,
   "metadata": {
    "colab": {
     "base_uri": "https://localhost:8080/",
     "height": 0
    },
    "executionInfo": {
     "elapsed": 32,
     "status": "ok",
     "timestamp": 1622669594178,
     "user": {
      "displayName": "Himanshu Rai",
      "photoUrl": "",
      "userId": "05553162241328899148"
     },
     "user_tz": -330
    },
    "id": "2e79W9fj2cRP",
    "outputId": "78e4f8a8-39b4-4f2b-8436-9b50a564deb8"
   },
   "outputs": [
    {
     "data": {
      "text/html": [
       "<div>\n",
       "<style scoped>\n",
       "    .dataframe tbody tr th:only-of-type {\n",
       "        vertical-align: middle;\n",
       "    }\n",
       "\n",
       "    .dataframe tbody tr th {\n",
       "        vertical-align: top;\n",
       "    }\n",
       "\n",
       "    .dataframe thead th {\n",
       "        text-align: right;\n",
       "    }\n",
       "</style>\n",
       "<table border=\"1\" class=\"dataframe\">\n",
       "  <thead>\n",
       "    <tr style=\"text-align: right;\">\n",
       "      <th></th>\n",
       "      <th>00</th>\n",
       "      <th>10</th>\n",
       "      <th>100</th>\n",
       "      <th>14</th>\n",
       "      <th>15</th>\n",
       "      <th>25</th>\n",
       "      <th>33</th>\n",
       "      <th>40</th>\n",
       "      <th>43</th>\n",
       "      <th>50</th>\n",
       "      <th>95</th>\n",
       "      <th>96</th>\n",
       "      <th>abalone</th>\n",
       "      <th>abbamele</th>\n",
       "      <th>absinthe</th>\n",
       "      <th>abura</th>\n",
       "      <th>acai</th>\n",
       "      <th>accent</th>\n",
       "      <th>accompaniment</th>\n",
       "      <th>achiote</th>\n",
       "      <th>acid</th>\n",
       "      <th>acini</th>\n",
       "      <th>ackee</th>\n",
       "      <th>acorn</th>\n",
       "      <th>acting</th>\n",
       "      <th>activ</th>\n",
       "      <th>active</th>\n",
       "      <th>added</th>\n",
       "      <th>adobo</th>\n",
       "      <th>adzuki</th>\n",
       "      <th>agar</th>\n",
       "      <th>agave</th>\n",
       "      <th>age</th>\n",
       "      <th>aged</th>\n",
       "      <th>ahi</th>\n",
       "      <th>aioli</th>\n",
       "      <th>ajinomoto</th>\n",
       "      <th>ajwain</th>\n",
       "      <th>aka</th>\n",
       "      <th>alaskan</th>\n",
       "      <th>...</th>\n",
       "      <th>wrappers</th>\n",
       "      <th>wraps</th>\n",
       "      <th>xanthan</th>\n",
       "      <th>xuxu</th>\n",
       "      <th>yaki</th>\n",
       "      <th>yakisoba</th>\n",
       "      <th>yam</th>\n",
       "      <th>yams</th>\n",
       "      <th>yardlong</th>\n",
       "      <th>yeast</th>\n",
       "      <th>yellow</th>\n",
       "      <th>yellowfin</th>\n",
       "      <th>yellowtail</th>\n",
       "      <th>yodel</th>\n",
       "      <th>yoghurt</th>\n",
       "      <th>yogurt</th>\n",
       "      <th>yolk</th>\n",
       "      <th>yolks</th>\n",
       "      <th>yoplait</th>\n",
       "      <th>york</th>\n",
       "      <th>young</th>\n",
       "      <th>yu</th>\n",
       "      <th>yuba</th>\n",
       "      <th>yuca</th>\n",
       "      <th>yucca</th>\n",
       "      <th>yukon</th>\n",
       "      <th>yum</th>\n",
       "      <th>yuzu</th>\n",
       "      <th>yuzukosho</th>\n",
       "      <th>za</th>\n",
       "      <th>zabaglione</th>\n",
       "      <th>zatarain</th>\n",
       "      <th>zatarains</th>\n",
       "      <th>zero</th>\n",
       "      <th>zest</th>\n",
       "      <th>zesty</th>\n",
       "      <th>zinfandel</th>\n",
       "      <th>ziti</th>\n",
       "      <th>zucchini</th>\n",
       "      <th>épices</th>\n",
       "    </tr>\n",
       "  </thead>\n",
       "  <tbody>\n",
       "    <tr>\n",
       "      <th>0</th>\n",
       "      <td>0</td>\n",
       "      <td>0</td>\n",
       "      <td>0</td>\n",
       "      <td>0</td>\n",
       "      <td>0</td>\n",
       "      <td>0</td>\n",
       "      <td>0</td>\n",
       "      <td>0</td>\n",
       "      <td>0</td>\n",
       "      <td>0</td>\n",
       "      <td>0</td>\n",
       "      <td>0</td>\n",
       "      <td>0</td>\n",
       "      <td>0</td>\n",
       "      <td>0</td>\n",
       "      <td>0</td>\n",
       "      <td>0</td>\n",
       "      <td>0</td>\n",
       "      <td>0</td>\n",
       "      <td>0</td>\n",
       "      <td>0</td>\n",
       "      <td>0</td>\n",
       "      <td>0</td>\n",
       "      <td>0</td>\n",
       "      <td>0</td>\n",
       "      <td>0</td>\n",
       "      <td>0</td>\n",
       "      <td>0</td>\n",
       "      <td>0</td>\n",
       "      <td>0</td>\n",
       "      <td>0</td>\n",
       "      <td>0</td>\n",
       "      <td>0</td>\n",
       "      <td>0</td>\n",
       "      <td>0</td>\n",
       "      <td>0</td>\n",
       "      <td>0</td>\n",
       "      <td>0</td>\n",
       "      <td>0</td>\n",
       "      <td>0</td>\n",
       "      <td>...</td>\n",
       "      <td>0</td>\n",
       "      <td>0</td>\n",
       "      <td>0</td>\n",
       "      <td>0</td>\n",
       "      <td>0</td>\n",
       "      <td>0</td>\n",
       "      <td>0</td>\n",
       "      <td>0</td>\n",
       "      <td>0</td>\n",
       "      <td>0</td>\n",
       "      <td>0</td>\n",
       "      <td>0</td>\n",
       "      <td>0</td>\n",
       "      <td>0</td>\n",
       "      <td>0</td>\n",
       "      <td>0</td>\n",
       "      <td>0</td>\n",
       "      <td>0</td>\n",
       "      <td>0</td>\n",
       "      <td>0</td>\n",
       "      <td>0</td>\n",
       "      <td>0</td>\n",
       "      <td>0</td>\n",
       "      <td>0</td>\n",
       "      <td>0</td>\n",
       "      <td>0</td>\n",
       "      <td>0</td>\n",
       "      <td>0</td>\n",
       "      <td>0</td>\n",
       "      <td>0</td>\n",
       "      <td>0</td>\n",
       "      <td>0</td>\n",
       "      <td>0</td>\n",
       "      <td>0</td>\n",
       "      <td>0</td>\n",
       "      <td>0</td>\n",
       "      <td>0</td>\n",
       "      <td>0</td>\n",
       "      <td>0</td>\n",
       "      <td>0</td>\n",
       "    </tr>\n",
       "    <tr>\n",
       "      <th>1</th>\n",
       "      <td>0</td>\n",
       "      <td>0</td>\n",
       "      <td>0</td>\n",
       "      <td>0</td>\n",
       "      <td>0</td>\n",
       "      <td>0</td>\n",
       "      <td>0</td>\n",
       "      <td>0</td>\n",
       "      <td>0</td>\n",
       "      <td>0</td>\n",
       "      <td>0</td>\n",
       "      <td>0</td>\n",
       "      <td>0</td>\n",
       "      <td>0</td>\n",
       "      <td>0</td>\n",
       "      <td>0</td>\n",
       "      <td>0</td>\n",
       "      <td>0</td>\n",
       "      <td>0</td>\n",
       "      <td>0</td>\n",
       "      <td>0</td>\n",
       "      <td>0</td>\n",
       "      <td>0</td>\n",
       "      <td>0</td>\n",
       "      <td>0</td>\n",
       "      <td>0</td>\n",
       "      <td>0</td>\n",
       "      <td>0</td>\n",
       "      <td>0</td>\n",
       "      <td>0</td>\n",
       "      <td>0</td>\n",
       "      <td>0</td>\n",
       "      <td>0</td>\n",
       "      <td>0</td>\n",
       "      <td>0</td>\n",
       "      <td>0</td>\n",
       "      <td>0</td>\n",
       "      <td>0</td>\n",
       "      <td>0</td>\n",
       "      <td>0</td>\n",
       "      <td>...</td>\n",
       "      <td>0</td>\n",
       "      <td>0</td>\n",
       "      <td>0</td>\n",
       "      <td>0</td>\n",
       "      <td>0</td>\n",
       "      <td>0</td>\n",
       "      <td>0</td>\n",
       "      <td>0</td>\n",
       "      <td>0</td>\n",
       "      <td>0</td>\n",
       "      <td>0</td>\n",
       "      <td>0</td>\n",
       "      <td>0</td>\n",
       "      <td>0</td>\n",
       "      <td>0</td>\n",
       "      <td>0</td>\n",
       "      <td>0</td>\n",
       "      <td>1</td>\n",
       "      <td>0</td>\n",
       "      <td>0</td>\n",
       "      <td>0</td>\n",
       "      <td>0</td>\n",
       "      <td>0</td>\n",
       "      <td>0</td>\n",
       "      <td>0</td>\n",
       "      <td>0</td>\n",
       "      <td>0</td>\n",
       "      <td>0</td>\n",
       "      <td>0</td>\n",
       "      <td>0</td>\n",
       "      <td>0</td>\n",
       "      <td>0</td>\n",
       "      <td>0</td>\n",
       "      <td>0</td>\n",
       "      <td>0</td>\n",
       "      <td>0</td>\n",
       "      <td>0</td>\n",
       "      <td>0</td>\n",
       "      <td>0</td>\n",
       "      <td>0</td>\n",
       "    </tr>\n",
       "    <tr>\n",
       "      <th>2</th>\n",
       "      <td>0</td>\n",
       "      <td>0</td>\n",
       "      <td>0</td>\n",
       "      <td>0</td>\n",
       "      <td>0</td>\n",
       "      <td>0</td>\n",
       "      <td>0</td>\n",
       "      <td>0</td>\n",
       "      <td>0</td>\n",
       "      <td>0</td>\n",
       "      <td>0</td>\n",
       "      <td>0</td>\n",
       "      <td>0</td>\n",
       "      <td>0</td>\n",
       "      <td>0</td>\n",
       "      <td>0</td>\n",
       "      <td>0</td>\n",
       "      <td>0</td>\n",
       "      <td>0</td>\n",
       "      <td>0</td>\n",
       "      <td>0</td>\n",
       "      <td>0</td>\n",
       "      <td>0</td>\n",
       "      <td>0</td>\n",
       "      <td>0</td>\n",
       "      <td>0</td>\n",
       "      <td>0</td>\n",
       "      <td>0</td>\n",
       "      <td>0</td>\n",
       "      <td>0</td>\n",
       "      <td>0</td>\n",
       "      <td>0</td>\n",
       "      <td>0</td>\n",
       "      <td>0</td>\n",
       "      <td>0</td>\n",
       "      <td>0</td>\n",
       "      <td>0</td>\n",
       "      <td>0</td>\n",
       "      <td>0</td>\n",
       "      <td>0</td>\n",
       "      <td>...</td>\n",
       "      <td>0</td>\n",
       "      <td>0</td>\n",
       "      <td>0</td>\n",
       "      <td>0</td>\n",
       "      <td>0</td>\n",
       "      <td>0</td>\n",
       "      <td>0</td>\n",
       "      <td>0</td>\n",
       "      <td>0</td>\n",
       "      <td>0</td>\n",
       "      <td>0</td>\n",
       "      <td>0</td>\n",
       "      <td>0</td>\n",
       "      <td>0</td>\n",
       "      <td>0</td>\n",
       "      <td>0</td>\n",
       "      <td>0</td>\n",
       "      <td>0</td>\n",
       "      <td>0</td>\n",
       "      <td>0</td>\n",
       "      <td>0</td>\n",
       "      <td>0</td>\n",
       "      <td>0</td>\n",
       "      <td>0</td>\n",
       "      <td>0</td>\n",
       "      <td>0</td>\n",
       "      <td>0</td>\n",
       "      <td>0</td>\n",
       "      <td>0</td>\n",
       "      <td>0</td>\n",
       "      <td>0</td>\n",
       "      <td>0</td>\n",
       "      <td>0</td>\n",
       "      <td>0</td>\n",
       "      <td>0</td>\n",
       "      <td>0</td>\n",
       "      <td>0</td>\n",
       "      <td>0</td>\n",
       "      <td>0</td>\n",
       "      <td>0</td>\n",
       "    </tr>\n",
       "    <tr>\n",
       "      <th>3</th>\n",
       "      <td>0</td>\n",
       "      <td>0</td>\n",
       "      <td>0</td>\n",
       "      <td>0</td>\n",
       "      <td>0</td>\n",
       "      <td>0</td>\n",
       "      <td>0</td>\n",
       "      <td>0</td>\n",
       "      <td>0</td>\n",
       "      <td>0</td>\n",
       "      <td>0</td>\n",
       "      <td>0</td>\n",
       "      <td>0</td>\n",
       "      <td>0</td>\n",
       "      <td>0</td>\n",
       "      <td>0</td>\n",
       "      <td>0</td>\n",
       "      <td>0</td>\n",
       "      <td>0</td>\n",
       "      <td>0</td>\n",
       "      <td>0</td>\n",
       "      <td>0</td>\n",
       "      <td>0</td>\n",
       "      <td>0</td>\n",
       "      <td>0</td>\n",
       "      <td>0</td>\n",
       "      <td>0</td>\n",
       "      <td>0</td>\n",
       "      <td>0</td>\n",
       "      <td>0</td>\n",
       "      <td>0</td>\n",
       "      <td>0</td>\n",
       "      <td>0</td>\n",
       "      <td>0</td>\n",
       "      <td>0</td>\n",
       "      <td>0</td>\n",
       "      <td>0</td>\n",
       "      <td>0</td>\n",
       "      <td>0</td>\n",
       "      <td>0</td>\n",
       "      <td>...</td>\n",
       "      <td>0</td>\n",
       "      <td>0</td>\n",
       "      <td>0</td>\n",
       "      <td>0</td>\n",
       "      <td>0</td>\n",
       "      <td>0</td>\n",
       "      <td>0</td>\n",
       "      <td>0</td>\n",
       "      <td>0</td>\n",
       "      <td>0</td>\n",
       "      <td>1</td>\n",
       "      <td>0</td>\n",
       "      <td>0</td>\n",
       "      <td>0</td>\n",
       "      <td>0</td>\n",
       "      <td>0</td>\n",
       "      <td>0</td>\n",
       "      <td>0</td>\n",
       "      <td>0</td>\n",
       "      <td>0</td>\n",
       "      <td>0</td>\n",
       "      <td>0</td>\n",
       "      <td>0</td>\n",
       "      <td>0</td>\n",
       "      <td>0</td>\n",
       "      <td>0</td>\n",
       "      <td>0</td>\n",
       "      <td>0</td>\n",
       "      <td>0</td>\n",
       "      <td>0</td>\n",
       "      <td>0</td>\n",
       "      <td>0</td>\n",
       "      <td>0</td>\n",
       "      <td>0</td>\n",
       "      <td>0</td>\n",
       "      <td>0</td>\n",
       "      <td>0</td>\n",
       "      <td>0</td>\n",
       "      <td>0</td>\n",
       "      <td>0</td>\n",
       "    </tr>\n",
       "    <tr>\n",
       "      <th>4</th>\n",
       "      <td>0</td>\n",
       "      <td>0</td>\n",
       "      <td>0</td>\n",
       "      <td>0</td>\n",
       "      <td>0</td>\n",
       "      <td>0</td>\n",
       "      <td>0</td>\n",
       "      <td>0</td>\n",
       "      <td>0</td>\n",
       "      <td>0</td>\n",
       "      <td>0</td>\n",
       "      <td>0</td>\n",
       "      <td>0</td>\n",
       "      <td>0</td>\n",
       "      <td>0</td>\n",
       "      <td>0</td>\n",
       "      <td>0</td>\n",
       "      <td>0</td>\n",
       "      <td>0</td>\n",
       "      <td>0</td>\n",
       "      <td>0</td>\n",
       "      <td>0</td>\n",
       "      <td>0</td>\n",
       "      <td>0</td>\n",
       "      <td>0</td>\n",
       "      <td>0</td>\n",
       "      <td>0</td>\n",
       "      <td>0</td>\n",
       "      <td>0</td>\n",
       "      <td>0</td>\n",
       "      <td>0</td>\n",
       "      <td>0</td>\n",
       "      <td>0</td>\n",
       "      <td>0</td>\n",
       "      <td>0</td>\n",
       "      <td>0</td>\n",
       "      <td>0</td>\n",
       "      <td>0</td>\n",
       "      <td>0</td>\n",
       "      <td>0</td>\n",
       "      <td>...</td>\n",
       "      <td>0</td>\n",
       "      <td>0</td>\n",
       "      <td>0</td>\n",
       "      <td>0</td>\n",
       "      <td>0</td>\n",
       "      <td>0</td>\n",
       "      <td>0</td>\n",
       "      <td>0</td>\n",
       "      <td>0</td>\n",
       "      <td>0</td>\n",
       "      <td>0</td>\n",
       "      <td>0</td>\n",
       "      <td>0</td>\n",
       "      <td>0</td>\n",
       "      <td>0</td>\n",
       "      <td>0</td>\n",
       "      <td>0</td>\n",
       "      <td>0</td>\n",
       "      <td>0</td>\n",
       "      <td>0</td>\n",
       "      <td>0</td>\n",
       "      <td>0</td>\n",
       "      <td>0</td>\n",
       "      <td>0</td>\n",
       "      <td>0</td>\n",
       "      <td>0</td>\n",
       "      <td>0</td>\n",
       "      <td>0</td>\n",
       "      <td>0</td>\n",
       "      <td>0</td>\n",
       "      <td>0</td>\n",
       "      <td>0</td>\n",
       "      <td>0</td>\n",
       "      <td>0</td>\n",
       "      <td>0</td>\n",
       "      <td>0</td>\n",
       "      <td>0</td>\n",
       "      <td>0</td>\n",
       "      <td>0</td>\n",
       "      <td>0</td>\n",
       "    </tr>\n",
       "  </tbody>\n",
       "</table>\n",
       "<p>5 rows × 3122 columns</p>\n",
       "</div>"
      ],
      "text/plain": [
       "   00  10  100  14  15  25  ...  zest  zesty  zinfandel  ziti  zucchini  épices\n",
       "0   0   0    0   0   0   0  ...     0      0          0     0         0       0\n",
       "1   0   0    0   0   0   0  ...     0      0          0     0         0       0\n",
       "2   0   0    0   0   0   0  ...     0      0          0     0         0       0\n",
       "3   0   0    0   0   0   0  ...     0      0          0     0         0       0\n",
       "4   0   0    0   0   0   0  ...     0      0          0     0         0       0\n",
       "\n",
       "[5 rows x 3122 columns]"
      ]
     },
     "execution_count": 30,
     "metadata": {
      "tags": []
     },
     "output_type": "execute_result"
    }
   ],
   "source": [
    "t_data.head()"
   ]
  },
  {
   "cell_type": "code",
   "execution_count": 31,
   "metadata": {
    "executionInfo": {
     "elapsed": 652,
     "status": "ok",
     "timestamp": 1622669594804,
     "user": {
      "displayName": "Himanshu Rai",
      "photoUrl": "",
      "userId": "05553162241328899148"
     },
     "user_tz": -330
    },
    "id": "_kp1TlL42cRP"
   },
   "outputs": [],
   "source": [
    "t_data1 = t_data.drop(t_data.index[0:9944])"
   ]
  },
  {
   "cell_type": "code",
   "execution_count": 32,
   "metadata": {
    "executionInfo": {
     "elapsed": 27,
     "status": "ok",
     "timestamp": 1622669594805,
     "user": {
      "displayName": "Himanshu Rai",
      "photoUrl": "",
      "userId": "05553162241328899148"
     },
     "user_tz": -330
    },
    "id": "fVtTaYzo2cRQ"
   },
   "outputs": [],
   "source": [
    "test_data1 = t_data.drop(t_data.index[9944:])"
   ]
  },
  {
   "cell_type": "code",
   "execution_count": 33,
   "metadata": {
    "colab": {
     "base_uri": "https://localhost:8080/"
    },
    "executionInfo": {
     "elapsed": 24,
     "status": "ok",
     "timestamp": 1622669594806,
     "user": {
      "displayName": "Himanshu Rai",
      "photoUrl": "",
      "userId": "05553162241328899148"
     },
     "user_tz": -330
    },
    "id": "8xmdE9eJ2cRQ",
    "outputId": "707c18ed-2414-4af1-b7db-77ae408a9621"
   },
   "outputs": [
    {
     "data": {
      "text/plain": [
       "(39774, 3122)"
      ]
     },
     "execution_count": 33,
     "metadata": {
      "tags": []
     },
     "output_type": "execute_result"
    }
   ],
   "source": [
    "t_data1.shape"
   ]
  },
  {
   "cell_type": "code",
   "execution_count": 34,
   "metadata": {
    "colab": {
     "base_uri": "https://localhost:8080/"
    },
    "executionInfo": {
     "elapsed": 18,
     "status": "ok",
     "timestamp": 1622669594807,
     "user": {
      "displayName": "Himanshu Rai",
      "photoUrl": "",
      "userId": "05553162241328899148"
     },
     "user_tz": -330
    },
    "id": "aZ8b4gMj2cRR",
    "outputId": "24f7db74-1762-4adc-caa5-3f45527f6ab6"
   },
   "outputs": [
    {
     "data": {
      "text/plain": [
       "(9944, 3122)"
      ]
     },
     "execution_count": 34,
     "metadata": {
      "tags": []
     },
     "output_type": "execute_result"
    }
   ],
   "source": [
    "test_data1.shape"
   ]
  },
  {
   "cell_type": "code",
   "execution_count": 35,
   "metadata": {
    "colab": {
     "base_uri": "https://localhost:8080/"
    },
    "executionInfo": {
     "elapsed": 13,
     "status": "ok",
     "timestamp": 1622669594807,
     "user": {
      "displayName": "Himanshu Rai",
      "photoUrl": "",
      "userId": "05553162241328899148"
     },
     "user_tz": -330
    },
    "id": "bCzYuXHh2cRR",
    "outputId": "3444c95d-f631-4bfa-baee-318ef1c133d5"
   },
   "outputs": [
    {
     "data": {
      "text/plain": [
       "(39774, 3)"
      ]
     },
     "execution_count": 35,
     "metadata": {
      "tags": []
     },
     "output_type": "execute_result"
    }
   ],
   "source": [
    "train_data.shape"
   ]
  },
  {
   "cell_type": "markdown",
   "metadata": {
    "id": "87fOsbOl2cRS"
   },
   "source": [
    "### Further preprocessing on Train data"
   ]
  },
  {
   "cell_type": "code",
   "execution_count": 36,
   "metadata": {
    "executionInfo": {
     "elapsed": 12,
     "status": "ok",
     "timestamp": 1622669594808,
     "user": {
      "displayName": "Himanshu Rai",
      "photoUrl": "",
      "userId": "05553162241328899148"
     },
     "user_tz": -330
    },
    "id": "DQ3AL9Ua2cRS"
   },
   "outputs": [],
   "source": [
    "t_data1.reset_index(inplace = True) "
   ]
  },
  {
   "cell_type": "code",
   "execution_count": 37,
   "metadata": {
    "executionInfo": {
     "elapsed": 1691,
     "status": "ok",
     "timestamp": 1622669596489,
     "user": {
      "displayName": "Himanshu Rai",
      "photoUrl": "",
      "userId": "05553162241328899148"
     },
     "user_tz": -330
    },
    "id": "eSKvc6952cRS"
   },
   "outputs": [],
   "source": [
    "t_data1.drop(\"index\",axis=1,inplace=True)"
   ]
  },
  {
   "cell_type": "code",
   "execution_count": 38,
   "metadata": {
    "colab": {
     "base_uri": "https://localhost:8080/",
     "height": 0
    },
    "executionInfo": {
     "elapsed": 14,
     "status": "ok",
     "timestamp": 1622669596492,
     "user": {
      "displayName": "Himanshu Rai",
      "photoUrl": "",
      "userId": "05553162241328899148"
     },
     "user_tz": -330
    },
    "id": "28Hocu1z2cRT",
    "outputId": "e740f9e4-e741-4f2b-8006-8345ea4dc6b4"
   },
   "outputs": [
    {
     "data": {
      "text/html": [
       "<div>\n",
       "<style scoped>\n",
       "    .dataframe tbody tr th:only-of-type {\n",
       "        vertical-align: middle;\n",
       "    }\n",
       "\n",
       "    .dataframe tbody tr th {\n",
       "        vertical-align: top;\n",
       "    }\n",
       "\n",
       "    .dataframe thead th {\n",
       "        text-align: right;\n",
       "    }\n",
       "</style>\n",
       "<table border=\"1\" class=\"dataframe\">\n",
       "  <thead>\n",
       "    <tr style=\"text-align: right;\">\n",
       "      <th></th>\n",
       "      <th>id</th>\n",
       "      <th>cuisine</th>\n",
       "      <th>ingredients</th>\n",
       "    </tr>\n",
       "  </thead>\n",
       "  <tbody>\n",
       "    <tr>\n",
       "      <th>0</th>\n",
       "      <td>10259</td>\n",
       "      <td>greek</td>\n",
       "      <td>romaine lettuce black olives grape tomatoes ga...</td>\n",
       "    </tr>\n",
       "    <tr>\n",
       "      <th>1</th>\n",
       "      <td>25693</td>\n",
       "      <td>southern_us</td>\n",
       "      <td>plain flour ground pepper salt tomatoes ground...</td>\n",
       "    </tr>\n",
       "    <tr>\n",
       "      <th>2</th>\n",
       "      <td>20130</td>\n",
       "      <td>filipino</td>\n",
       "      <td>eggs pepper salt mayonaise cooking oil green c...</td>\n",
       "    </tr>\n",
       "    <tr>\n",
       "      <th>3</th>\n",
       "      <td>22213</td>\n",
       "      <td>indian</td>\n",
       "      <td>water vegetable oil wheat salt</td>\n",
       "    </tr>\n",
       "    <tr>\n",
       "      <th>4</th>\n",
       "      <td>13162</td>\n",
       "      <td>indian</td>\n",
       "      <td>black pepper shallots cornflour cayenne pepper...</td>\n",
       "    </tr>\n",
       "  </tbody>\n",
       "</table>\n",
       "</div>"
      ],
      "text/plain": [
       "      id      cuisine                                        ingredients\n",
       "0  10259        greek  romaine lettuce black olives grape tomatoes ga...\n",
       "1  25693  southern_us  plain flour ground pepper salt tomatoes ground...\n",
       "2  20130     filipino  eggs pepper salt mayonaise cooking oil green c...\n",
       "3  22213       indian                     water vegetable oil wheat salt\n",
       "4  13162       indian  black pepper shallots cornflour cayenne pepper..."
      ]
     },
     "execution_count": 38,
     "metadata": {
      "tags": []
     },
     "output_type": "execute_result"
    }
   ],
   "source": [
    "train_data.head()"
   ]
  },
  {
   "cell_type": "code",
   "execution_count": 39,
   "metadata": {
    "executionInfo": {
     "elapsed": 13,
     "status": "ok",
     "timestamp": 1622669596493,
     "user": {
      "displayName": "Himanshu Rai",
      "photoUrl": "",
      "userId": "05553162241328899148"
     },
     "user_tz": -330
    },
    "id": "nhVki-J72cRT"
   },
   "outputs": [],
   "source": [
    "## Concatenating original train data and TF data of ingredients\n",
    "train_data1 = pd.concat([train_data, t_data1], axis=1)"
   ]
  },
  {
   "cell_type": "code",
   "execution_count": 40,
   "metadata": {
    "colab": {
     "base_uri": "https://localhost:8080/"
    },
    "executionInfo": {
     "elapsed": 13,
     "status": "ok",
     "timestamp": 1622669596494,
     "user": {
      "displayName": "Himanshu Rai",
      "photoUrl": "",
      "userId": "05553162241328899148"
     },
     "user_tz": -330
    },
    "id": "2mHI_uJc2cRU",
    "outputId": "e729abc8-551b-4a43-cda2-c88ac28f139f"
   },
   "outputs": [
    {
     "data": {
      "text/plain": [
       "(39774, 3125)"
      ]
     },
     "execution_count": 40,
     "metadata": {
      "tags": []
     },
     "output_type": "execute_result"
    }
   ],
   "source": [
    "train_data1.shape"
   ]
  },
  {
   "cell_type": "code",
   "execution_count": 41,
   "metadata": {
    "colab": {
     "base_uri": "https://localhost:8080/",
     "height": 0
    },
    "executionInfo": {
     "elapsed": 639,
     "status": "ok",
     "timestamp": 1622669597121,
     "user": {
      "displayName": "Himanshu Rai",
      "photoUrl": "",
      "userId": "05553162241328899148"
     },
     "user_tz": -330
    },
    "id": "mRhuH9NS2cRU",
    "outputId": "c5adefd8-f157-4c94-bd56-71252c552c92"
   },
   "outputs": [
    {
     "data": {
      "text/html": [
       "<div>\n",
       "<style scoped>\n",
       "    .dataframe tbody tr th:only-of-type {\n",
       "        vertical-align: middle;\n",
       "    }\n",
       "\n",
       "    .dataframe tbody tr th {\n",
       "        vertical-align: top;\n",
       "    }\n",
       "\n",
       "    .dataframe thead th {\n",
       "        text-align: right;\n",
       "    }\n",
       "</style>\n",
       "<table border=\"1\" class=\"dataframe\">\n",
       "  <thead>\n",
       "    <tr style=\"text-align: right;\">\n",
       "      <th></th>\n",
       "      <th>id</th>\n",
       "      <th>cuisine</th>\n",
       "      <th>ingredients</th>\n",
       "      <th>00</th>\n",
       "      <th>10</th>\n",
       "      <th>100</th>\n",
       "      <th>14</th>\n",
       "      <th>15</th>\n",
       "      <th>25</th>\n",
       "      <th>33</th>\n",
       "      <th>40</th>\n",
       "      <th>43</th>\n",
       "      <th>50</th>\n",
       "      <th>95</th>\n",
       "      <th>96</th>\n",
       "      <th>abalone</th>\n",
       "      <th>abbamele</th>\n",
       "      <th>absinthe</th>\n",
       "      <th>abura</th>\n",
       "      <th>acai</th>\n",
       "      <th>accent</th>\n",
       "      <th>accompaniment</th>\n",
       "      <th>achiote</th>\n",
       "      <th>acid</th>\n",
       "      <th>acini</th>\n",
       "      <th>ackee</th>\n",
       "      <th>acorn</th>\n",
       "      <th>acting</th>\n",
       "      <th>activ</th>\n",
       "      <th>active</th>\n",
       "      <th>added</th>\n",
       "      <th>adobo</th>\n",
       "      <th>adzuki</th>\n",
       "      <th>agar</th>\n",
       "      <th>agave</th>\n",
       "      <th>age</th>\n",
       "      <th>aged</th>\n",
       "      <th>ahi</th>\n",
       "      <th>aioli</th>\n",
       "      <th>ajinomoto</th>\n",
       "      <th>...</th>\n",
       "      <th>wrappers</th>\n",
       "      <th>wraps</th>\n",
       "      <th>xanthan</th>\n",
       "      <th>xuxu</th>\n",
       "      <th>yaki</th>\n",
       "      <th>yakisoba</th>\n",
       "      <th>yam</th>\n",
       "      <th>yams</th>\n",
       "      <th>yardlong</th>\n",
       "      <th>yeast</th>\n",
       "      <th>yellow</th>\n",
       "      <th>yellowfin</th>\n",
       "      <th>yellowtail</th>\n",
       "      <th>yodel</th>\n",
       "      <th>yoghurt</th>\n",
       "      <th>yogurt</th>\n",
       "      <th>yolk</th>\n",
       "      <th>yolks</th>\n",
       "      <th>yoplait</th>\n",
       "      <th>york</th>\n",
       "      <th>young</th>\n",
       "      <th>yu</th>\n",
       "      <th>yuba</th>\n",
       "      <th>yuca</th>\n",
       "      <th>yucca</th>\n",
       "      <th>yukon</th>\n",
       "      <th>yum</th>\n",
       "      <th>yuzu</th>\n",
       "      <th>yuzukosho</th>\n",
       "      <th>za</th>\n",
       "      <th>zabaglione</th>\n",
       "      <th>zatarain</th>\n",
       "      <th>zatarains</th>\n",
       "      <th>zero</th>\n",
       "      <th>zest</th>\n",
       "      <th>zesty</th>\n",
       "      <th>zinfandel</th>\n",
       "      <th>ziti</th>\n",
       "      <th>zucchini</th>\n",
       "      <th>épices</th>\n",
       "    </tr>\n",
       "  </thead>\n",
       "  <tbody>\n",
       "    <tr>\n",
       "      <th>0</th>\n",
       "      <td>10259</td>\n",
       "      <td>greek</td>\n",
       "      <td>romaine lettuce black olives grape tomatoes ga...</td>\n",
       "      <td>0</td>\n",
       "      <td>0</td>\n",
       "      <td>0</td>\n",
       "      <td>0</td>\n",
       "      <td>0</td>\n",
       "      <td>0</td>\n",
       "      <td>0</td>\n",
       "      <td>0</td>\n",
       "      <td>0</td>\n",
       "      <td>0</td>\n",
       "      <td>0</td>\n",
       "      <td>0</td>\n",
       "      <td>0</td>\n",
       "      <td>0</td>\n",
       "      <td>0</td>\n",
       "      <td>0</td>\n",
       "      <td>0</td>\n",
       "      <td>0</td>\n",
       "      <td>0</td>\n",
       "      <td>0</td>\n",
       "      <td>0</td>\n",
       "      <td>0</td>\n",
       "      <td>0</td>\n",
       "      <td>0</td>\n",
       "      <td>0</td>\n",
       "      <td>0</td>\n",
       "      <td>0</td>\n",
       "      <td>0</td>\n",
       "      <td>0</td>\n",
       "      <td>0</td>\n",
       "      <td>0</td>\n",
       "      <td>0</td>\n",
       "      <td>0</td>\n",
       "      <td>0</td>\n",
       "      <td>0</td>\n",
       "      <td>0</td>\n",
       "      <td>0</td>\n",
       "      <td>...</td>\n",
       "      <td>0</td>\n",
       "      <td>0</td>\n",
       "      <td>0</td>\n",
       "      <td>0</td>\n",
       "      <td>0</td>\n",
       "      <td>0</td>\n",
       "      <td>0</td>\n",
       "      <td>0</td>\n",
       "      <td>0</td>\n",
       "      <td>0</td>\n",
       "      <td>0</td>\n",
       "      <td>0</td>\n",
       "      <td>0</td>\n",
       "      <td>0</td>\n",
       "      <td>0</td>\n",
       "      <td>0</td>\n",
       "      <td>0</td>\n",
       "      <td>0</td>\n",
       "      <td>0</td>\n",
       "      <td>0</td>\n",
       "      <td>0</td>\n",
       "      <td>0</td>\n",
       "      <td>0</td>\n",
       "      <td>0</td>\n",
       "      <td>0</td>\n",
       "      <td>0</td>\n",
       "      <td>0</td>\n",
       "      <td>0</td>\n",
       "      <td>0</td>\n",
       "      <td>0</td>\n",
       "      <td>0</td>\n",
       "      <td>0</td>\n",
       "      <td>0</td>\n",
       "      <td>0</td>\n",
       "      <td>0</td>\n",
       "      <td>0</td>\n",
       "      <td>0</td>\n",
       "      <td>0</td>\n",
       "      <td>0</td>\n",
       "      <td>0</td>\n",
       "    </tr>\n",
       "    <tr>\n",
       "      <th>1</th>\n",
       "      <td>25693</td>\n",
       "      <td>southern_us</td>\n",
       "      <td>plain flour ground pepper salt tomatoes ground...</td>\n",
       "      <td>0</td>\n",
       "      <td>0</td>\n",
       "      <td>0</td>\n",
       "      <td>0</td>\n",
       "      <td>0</td>\n",
       "      <td>0</td>\n",
       "      <td>0</td>\n",
       "      <td>0</td>\n",
       "      <td>0</td>\n",
       "      <td>0</td>\n",
       "      <td>0</td>\n",
       "      <td>0</td>\n",
       "      <td>0</td>\n",
       "      <td>0</td>\n",
       "      <td>0</td>\n",
       "      <td>0</td>\n",
       "      <td>0</td>\n",
       "      <td>0</td>\n",
       "      <td>0</td>\n",
       "      <td>0</td>\n",
       "      <td>0</td>\n",
       "      <td>0</td>\n",
       "      <td>0</td>\n",
       "      <td>0</td>\n",
       "      <td>0</td>\n",
       "      <td>0</td>\n",
       "      <td>0</td>\n",
       "      <td>0</td>\n",
       "      <td>0</td>\n",
       "      <td>0</td>\n",
       "      <td>0</td>\n",
       "      <td>0</td>\n",
       "      <td>0</td>\n",
       "      <td>0</td>\n",
       "      <td>0</td>\n",
       "      <td>0</td>\n",
       "      <td>0</td>\n",
       "      <td>...</td>\n",
       "      <td>0</td>\n",
       "      <td>0</td>\n",
       "      <td>0</td>\n",
       "      <td>0</td>\n",
       "      <td>0</td>\n",
       "      <td>0</td>\n",
       "      <td>0</td>\n",
       "      <td>0</td>\n",
       "      <td>0</td>\n",
       "      <td>0</td>\n",
       "      <td>1</td>\n",
       "      <td>0</td>\n",
       "      <td>0</td>\n",
       "      <td>0</td>\n",
       "      <td>0</td>\n",
       "      <td>0</td>\n",
       "      <td>0</td>\n",
       "      <td>0</td>\n",
       "      <td>0</td>\n",
       "      <td>0</td>\n",
       "      <td>0</td>\n",
       "      <td>0</td>\n",
       "      <td>0</td>\n",
       "      <td>0</td>\n",
       "      <td>0</td>\n",
       "      <td>0</td>\n",
       "      <td>0</td>\n",
       "      <td>0</td>\n",
       "      <td>0</td>\n",
       "      <td>0</td>\n",
       "      <td>0</td>\n",
       "      <td>0</td>\n",
       "      <td>0</td>\n",
       "      <td>0</td>\n",
       "      <td>0</td>\n",
       "      <td>0</td>\n",
       "      <td>0</td>\n",
       "      <td>0</td>\n",
       "      <td>0</td>\n",
       "      <td>0</td>\n",
       "    </tr>\n",
       "    <tr>\n",
       "      <th>2</th>\n",
       "      <td>20130</td>\n",
       "      <td>filipino</td>\n",
       "      <td>eggs pepper salt mayonaise cooking oil green c...</td>\n",
       "      <td>0</td>\n",
       "      <td>0</td>\n",
       "      <td>0</td>\n",
       "      <td>0</td>\n",
       "      <td>0</td>\n",
       "      <td>0</td>\n",
       "      <td>0</td>\n",
       "      <td>0</td>\n",
       "      <td>0</td>\n",
       "      <td>0</td>\n",
       "      <td>0</td>\n",
       "      <td>0</td>\n",
       "      <td>0</td>\n",
       "      <td>0</td>\n",
       "      <td>0</td>\n",
       "      <td>0</td>\n",
       "      <td>0</td>\n",
       "      <td>0</td>\n",
       "      <td>0</td>\n",
       "      <td>0</td>\n",
       "      <td>0</td>\n",
       "      <td>0</td>\n",
       "      <td>0</td>\n",
       "      <td>0</td>\n",
       "      <td>0</td>\n",
       "      <td>0</td>\n",
       "      <td>0</td>\n",
       "      <td>0</td>\n",
       "      <td>0</td>\n",
       "      <td>0</td>\n",
       "      <td>0</td>\n",
       "      <td>0</td>\n",
       "      <td>0</td>\n",
       "      <td>0</td>\n",
       "      <td>0</td>\n",
       "      <td>0</td>\n",
       "      <td>0</td>\n",
       "      <td>...</td>\n",
       "      <td>0</td>\n",
       "      <td>0</td>\n",
       "      <td>0</td>\n",
       "      <td>0</td>\n",
       "      <td>0</td>\n",
       "      <td>0</td>\n",
       "      <td>0</td>\n",
       "      <td>0</td>\n",
       "      <td>0</td>\n",
       "      <td>0</td>\n",
       "      <td>1</td>\n",
       "      <td>0</td>\n",
       "      <td>0</td>\n",
       "      <td>0</td>\n",
       "      <td>0</td>\n",
       "      <td>0</td>\n",
       "      <td>0</td>\n",
       "      <td>0</td>\n",
       "      <td>0</td>\n",
       "      <td>0</td>\n",
       "      <td>0</td>\n",
       "      <td>0</td>\n",
       "      <td>0</td>\n",
       "      <td>0</td>\n",
       "      <td>0</td>\n",
       "      <td>0</td>\n",
       "      <td>0</td>\n",
       "      <td>0</td>\n",
       "      <td>0</td>\n",
       "      <td>0</td>\n",
       "      <td>0</td>\n",
       "      <td>0</td>\n",
       "      <td>0</td>\n",
       "      <td>0</td>\n",
       "      <td>0</td>\n",
       "      <td>0</td>\n",
       "      <td>0</td>\n",
       "      <td>0</td>\n",
       "      <td>0</td>\n",
       "      <td>0</td>\n",
       "    </tr>\n",
       "    <tr>\n",
       "      <th>3</th>\n",
       "      <td>22213</td>\n",
       "      <td>indian</td>\n",
       "      <td>water vegetable oil wheat salt</td>\n",
       "      <td>0</td>\n",
       "      <td>0</td>\n",
       "      <td>0</td>\n",
       "      <td>0</td>\n",
       "      <td>0</td>\n",
       "      <td>0</td>\n",
       "      <td>0</td>\n",
       "      <td>0</td>\n",
       "      <td>0</td>\n",
       "      <td>0</td>\n",
       "      <td>0</td>\n",
       "      <td>0</td>\n",
       "      <td>0</td>\n",
       "      <td>0</td>\n",
       "      <td>0</td>\n",
       "      <td>0</td>\n",
       "      <td>0</td>\n",
       "      <td>0</td>\n",
       "      <td>0</td>\n",
       "      <td>0</td>\n",
       "      <td>0</td>\n",
       "      <td>0</td>\n",
       "      <td>0</td>\n",
       "      <td>0</td>\n",
       "      <td>0</td>\n",
       "      <td>0</td>\n",
       "      <td>0</td>\n",
       "      <td>0</td>\n",
       "      <td>0</td>\n",
       "      <td>0</td>\n",
       "      <td>0</td>\n",
       "      <td>0</td>\n",
       "      <td>0</td>\n",
       "      <td>0</td>\n",
       "      <td>0</td>\n",
       "      <td>0</td>\n",
       "      <td>0</td>\n",
       "      <td>...</td>\n",
       "      <td>0</td>\n",
       "      <td>0</td>\n",
       "      <td>0</td>\n",
       "      <td>0</td>\n",
       "      <td>0</td>\n",
       "      <td>0</td>\n",
       "      <td>0</td>\n",
       "      <td>0</td>\n",
       "      <td>0</td>\n",
       "      <td>0</td>\n",
       "      <td>0</td>\n",
       "      <td>0</td>\n",
       "      <td>0</td>\n",
       "      <td>0</td>\n",
       "      <td>0</td>\n",
       "      <td>0</td>\n",
       "      <td>0</td>\n",
       "      <td>0</td>\n",
       "      <td>0</td>\n",
       "      <td>0</td>\n",
       "      <td>0</td>\n",
       "      <td>0</td>\n",
       "      <td>0</td>\n",
       "      <td>0</td>\n",
       "      <td>0</td>\n",
       "      <td>0</td>\n",
       "      <td>0</td>\n",
       "      <td>0</td>\n",
       "      <td>0</td>\n",
       "      <td>0</td>\n",
       "      <td>0</td>\n",
       "      <td>0</td>\n",
       "      <td>0</td>\n",
       "      <td>0</td>\n",
       "      <td>0</td>\n",
       "      <td>0</td>\n",
       "      <td>0</td>\n",
       "      <td>0</td>\n",
       "      <td>0</td>\n",
       "      <td>0</td>\n",
       "    </tr>\n",
       "    <tr>\n",
       "      <th>4</th>\n",
       "      <td>13162</td>\n",
       "      <td>indian</td>\n",
       "      <td>black pepper shallots cornflour cayenne pepper...</td>\n",
       "      <td>0</td>\n",
       "      <td>0</td>\n",
       "      <td>0</td>\n",
       "      <td>0</td>\n",
       "      <td>0</td>\n",
       "      <td>0</td>\n",
       "      <td>0</td>\n",
       "      <td>0</td>\n",
       "      <td>0</td>\n",
       "      <td>0</td>\n",
       "      <td>0</td>\n",
       "      <td>0</td>\n",
       "      <td>0</td>\n",
       "      <td>0</td>\n",
       "      <td>0</td>\n",
       "      <td>0</td>\n",
       "      <td>0</td>\n",
       "      <td>0</td>\n",
       "      <td>0</td>\n",
       "      <td>0</td>\n",
       "      <td>0</td>\n",
       "      <td>0</td>\n",
       "      <td>0</td>\n",
       "      <td>0</td>\n",
       "      <td>0</td>\n",
       "      <td>0</td>\n",
       "      <td>0</td>\n",
       "      <td>0</td>\n",
       "      <td>0</td>\n",
       "      <td>0</td>\n",
       "      <td>0</td>\n",
       "      <td>0</td>\n",
       "      <td>0</td>\n",
       "      <td>0</td>\n",
       "      <td>0</td>\n",
       "      <td>0</td>\n",
       "      <td>0</td>\n",
       "      <td>...</td>\n",
       "      <td>0</td>\n",
       "      <td>0</td>\n",
       "      <td>0</td>\n",
       "      <td>0</td>\n",
       "      <td>0</td>\n",
       "      <td>0</td>\n",
       "      <td>0</td>\n",
       "      <td>0</td>\n",
       "      <td>0</td>\n",
       "      <td>0</td>\n",
       "      <td>0</td>\n",
       "      <td>0</td>\n",
       "      <td>0</td>\n",
       "      <td>0</td>\n",
       "      <td>0</td>\n",
       "      <td>1</td>\n",
       "      <td>0</td>\n",
       "      <td>0</td>\n",
       "      <td>0</td>\n",
       "      <td>0</td>\n",
       "      <td>0</td>\n",
       "      <td>0</td>\n",
       "      <td>0</td>\n",
       "      <td>0</td>\n",
       "      <td>0</td>\n",
       "      <td>0</td>\n",
       "      <td>0</td>\n",
       "      <td>0</td>\n",
       "      <td>0</td>\n",
       "      <td>0</td>\n",
       "      <td>0</td>\n",
       "      <td>0</td>\n",
       "      <td>0</td>\n",
       "      <td>0</td>\n",
       "      <td>0</td>\n",
       "      <td>0</td>\n",
       "      <td>0</td>\n",
       "      <td>0</td>\n",
       "      <td>0</td>\n",
       "      <td>0</td>\n",
       "    </tr>\n",
       "  </tbody>\n",
       "</table>\n",
       "<p>5 rows × 3125 columns</p>\n",
       "</div>"
      ],
      "text/plain": [
       "      id      cuisine  ... zucchini  épices\n",
       "0  10259        greek  ...        0       0\n",
       "1  25693  southern_us  ...        0       0\n",
       "2  20130     filipino  ...        0       0\n",
       "3  22213       indian  ...        0       0\n",
       "4  13162       indian  ...        0       0\n",
       "\n",
       "[5 rows x 3125 columns]"
      ]
     },
     "execution_count": 41,
     "metadata": {
      "tags": []
     },
     "output_type": "execute_result"
    }
   ],
   "source": [
    "train_data1.head()"
   ]
  },
  {
   "cell_type": "code",
   "execution_count": 42,
   "metadata": {
    "executionInfo": {
     "elapsed": 548,
     "status": "ok",
     "timestamp": 1622669597660,
     "user": {
      "displayName": "Himanshu Rai",
      "photoUrl": "",
      "userId": "05553162241328899148"
     },
     "user_tz": -330
    },
    "id": "8oEjNvIn2cRU",
    "scrolled": false
   },
   "outputs": [],
   "source": [
    "train_data1.drop(\"id\",axis=1,inplace=True)   #All unique values\n",
    "train_data1.drop(\"ingredients\",axis=1,inplace=True)  #already captured in TF dataframe"
   ]
  },
  {
   "cell_type": "code",
   "execution_count": 43,
   "metadata": {
    "colab": {
     "base_uri": "https://localhost:8080/"
    },
    "executionInfo": {
     "elapsed": 9,
     "status": "ok",
     "timestamp": 1622669597663,
     "user": {
      "displayName": "Himanshu Rai",
      "photoUrl": "",
      "userId": "05553162241328899148"
     },
     "user_tz": -330
    },
    "id": "0ekyDOg62cRV",
    "outputId": "765317d0-d122-4f09-f54d-97b36a5fb599"
   },
   "outputs": [
    {
     "data": {
      "text/plain": [
       "(39774, 3123)"
      ]
     },
     "execution_count": 43,
     "metadata": {
      "tags": []
     },
     "output_type": "execute_result"
    }
   ],
   "source": [
    "train_data1.shape"
   ]
  },
  {
   "cell_type": "code",
   "execution_count": 44,
   "metadata": {
    "colab": {
     "base_uri": "https://localhost:8080/",
     "height": 0
    },
    "executionInfo": {
     "elapsed": 701,
     "status": "ok",
     "timestamp": 1622669598358,
     "user": {
      "displayName": "Himanshu Rai",
      "photoUrl": "",
      "userId": "05553162241328899148"
     },
     "user_tz": -330
    },
    "id": "9qzvEfvV2cRV",
    "outputId": "c04db02e-3ee4-4308-b74d-8cb9737238cc"
   },
   "outputs": [
    {
     "data": {
      "text/html": [
       "<div>\n",
       "<style scoped>\n",
       "    .dataframe tbody tr th:only-of-type {\n",
       "        vertical-align: middle;\n",
       "    }\n",
       "\n",
       "    .dataframe tbody tr th {\n",
       "        vertical-align: top;\n",
       "    }\n",
       "\n",
       "    .dataframe thead th {\n",
       "        text-align: right;\n",
       "    }\n",
       "</style>\n",
       "<table border=\"1\" class=\"dataframe\">\n",
       "  <thead>\n",
       "    <tr style=\"text-align: right;\">\n",
       "      <th></th>\n",
       "      <th>cuisine</th>\n",
       "      <th>00</th>\n",
       "      <th>10</th>\n",
       "      <th>100</th>\n",
       "      <th>14</th>\n",
       "      <th>15</th>\n",
       "      <th>25</th>\n",
       "      <th>33</th>\n",
       "      <th>40</th>\n",
       "      <th>43</th>\n",
       "      <th>50</th>\n",
       "      <th>95</th>\n",
       "      <th>96</th>\n",
       "      <th>abalone</th>\n",
       "      <th>abbamele</th>\n",
       "      <th>absinthe</th>\n",
       "      <th>abura</th>\n",
       "      <th>acai</th>\n",
       "      <th>accent</th>\n",
       "      <th>accompaniment</th>\n",
       "      <th>achiote</th>\n",
       "      <th>acid</th>\n",
       "      <th>acini</th>\n",
       "      <th>ackee</th>\n",
       "      <th>acorn</th>\n",
       "      <th>acting</th>\n",
       "      <th>activ</th>\n",
       "      <th>active</th>\n",
       "      <th>added</th>\n",
       "      <th>adobo</th>\n",
       "      <th>adzuki</th>\n",
       "      <th>agar</th>\n",
       "      <th>agave</th>\n",
       "      <th>age</th>\n",
       "      <th>aged</th>\n",
       "      <th>ahi</th>\n",
       "      <th>aioli</th>\n",
       "      <th>ajinomoto</th>\n",
       "      <th>ajwain</th>\n",
       "      <th>aka</th>\n",
       "      <th>...</th>\n",
       "      <th>wrappers</th>\n",
       "      <th>wraps</th>\n",
       "      <th>xanthan</th>\n",
       "      <th>xuxu</th>\n",
       "      <th>yaki</th>\n",
       "      <th>yakisoba</th>\n",
       "      <th>yam</th>\n",
       "      <th>yams</th>\n",
       "      <th>yardlong</th>\n",
       "      <th>yeast</th>\n",
       "      <th>yellow</th>\n",
       "      <th>yellowfin</th>\n",
       "      <th>yellowtail</th>\n",
       "      <th>yodel</th>\n",
       "      <th>yoghurt</th>\n",
       "      <th>yogurt</th>\n",
       "      <th>yolk</th>\n",
       "      <th>yolks</th>\n",
       "      <th>yoplait</th>\n",
       "      <th>york</th>\n",
       "      <th>young</th>\n",
       "      <th>yu</th>\n",
       "      <th>yuba</th>\n",
       "      <th>yuca</th>\n",
       "      <th>yucca</th>\n",
       "      <th>yukon</th>\n",
       "      <th>yum</th>\n",
       "      <th>yuzu</th>\n",
       "      <th>yuzukosho</th>\n",
       "      <th>za</th>\n",
       "      <th>zabaglione</th>\n",
       "      <th>zatarain</th>\n",
       "      <th>zatarains</th>\n",
       "      <th>zero</th>\n",
       "      <th>zest</th>\n",
       "      <th>zesty</th>\n",
       "      <th>zinfandel</th>\n",
       "      <th>ziti</th>\n",
       "      <th>zucchini</th>\n",
       "      <th>épices</th>\n",
       "    </tr>\n",
       "  </thead>\n",
       "  <tbody>\n",
       "    <tr>\n",
       "      <th>0</th>\n",
       "      <td>greek</td>\n",
       "      <td>0</td>\n",
       "      <td>0</td>\n",
       "      <td>0</td>\n",
       "      <td>0</td>\n",
       "      <td>0</td>\n",
       "      <td>0</td>\n",
       "      <td>0</td>\n",
       "      <td>0</td>\n",
       "      <td>0</td>\n",
       "      <td>0</td>\n",
       "      <td>0</td>\n",
       "      <td>0</td>\n",
       "      <td>0</td>\n",
       "      <td>0</td>\n",
       "      <td>0</td>\n",
       "      <td>0</td>\n",
       "      <td>0</td>\n",
       "      <td>0</td>\n",
       "      <td>0</td>\n",
       "      <td>0</td>\n",
       "      <td>0</td>\n",
       "      <td>0</td>\n",
       "      <td>0</td>\n",
       "      <td>0</td>\n",
       "      <td>0</td>\n",
       "      <td>0</td>\n",
       "      <td>0</td>\n",
       "      <td>0</td>\n",
       "      <td>0</td>\n",
       "      <td>0</td>\n",
       "      <td>0</td>\n",
       "      <td>0</td>\n",
       "      <td>0</td>\n",
       "      <td>0</td>\n",
       "      <td>0</td>\n",
       "      <td>0</td>\n",
       "      <td>0</td>\n",
       "      <td>0</td>\n",
       "      <td>0</td>\n",
       "      <td>...</td>\n",
       "      <td>0</td>\n",
       "      <td>0</td>\n",
       "      <td>0</td>\n",
       "      <td>0</td>\n",
       "      <td>0</td>\n",
       "      <td>0</td>\n",
       "      <td>0</td>\n",
       "      <td>0</td>\n",
       "      <td>0</td>\n",
       "      <td>0</td>\n",
       "      <td>0</td>\n",
       "      <td>0</td>\n",
       "      <td>0</td>\n",
       "      <td>0</td>\n",
       "      <td>0</td>\n",
       "      <td>0</td>\n",
       "      <td>0</td>\n",
       "      <td>0</td>\n",
       "      <td>0</td>\n",
       "      <td>0</td>\n",
       "      <td>0</td>\n",
       "      <td>0</td>\n",
       "      <td>0</td>\n",
       "      <td>0</td>\n",
       "      <td>0</td>\n",
       "      <td>0</td>\n",
       "      <td>0</td>\n",
       "      <td>0</td>\n",
       "      <td>0</td>\n",
       "      <td>0</td>\n",
       "      <td>0</td>\n",
       "      <td>0</td>\n",
       "      <td>0</td>\n",
       "      <td>0</td>\n",
       "      <td>0</td>\n",
       "      <td>0</td>\n",
       "      <td>0</td>\n",
       "      <td>0</td>\n",
       "      <td>0</td>\n",
       "      <td>0</td>\n",
       "    </tr>\n",
       "    <tr>\n",
       "      <th>1</th>\n",
       "      <td>southern_us</td>\n",
       "      <td>0</td>\n",
       "      <td>0</td>\n",
       "      <td>0</td>\n",
       "      <td>0</td>\n",
       "      <td>0</td>\n",
       "      <td>0</td>\n",
       "      <td>0</td>\n",
       "      <td>0</td>\n",
       "      <td>0</td>\n",
       "      <td>0</td>\n",
       "      <td>0</td>\n",
       "      <td>0</td>\n",
       "      <td>0</td>\n",
       "      <td>0</td>\n",
       "      <td>0</td>\n",
       "      <td>0</td>\n",
       "      <td>0</td>\n",
       "      <td>0</td>\n",
       "      <td>0</td>\n",
       "      <td>0</td>\n",
       "      <td>0</td>\n",
       "      <td>0</td>\n",
       "      <td>0</td>\n",
       "      <td>0</td>\n",
       "      <td>0</td>\n",
       "      <td>0</td>\n",
       "      <td>0</td>\n",
       "      <td>0</td>\n",
       "      <td>0</td>\n",
       "      <td>0</td>\n",
       "      <td>0</td>\n",
       "      <td>0</td>\n",
       "      <td>0</td>\n",
       "      <td>0</td>\n",
       "      <td>0</td>\n",
       "      <td>0</td>\n",
       "      <td>0</td>\n",
       "      <td>0</td>\n",
       "      <td>0</td>\n",
       "      <td>...</td>\n",
       "      <td>0</td>\n",
       "      <td>0</td>\n",
       "      <td>0</td>\n",
       "      <td>0</td>\n",
       "      <td>0</td>\n",
       "      <td>0</td>\n",
       "      <td>0</td>\n",
       "      <td>0</td>\n",
       "      <td>0</td>\n",
       "      <td>0</td>\n",
       "      <td>1</td>\n",
       "      <td>0</td>\n",
       "      <td>0</td>\n",
       "      <td>0</td>\n",
       "      <td>0</td>\n",
       "      <td>0</td>\n",
       "      <td>0</td>\n",
       "      <td>0</td>\n",
       "      <td>0</td>\n",
       "      <td>0</td>\n",
       "      <td>0</td>\n",
       "      <td>0</td>\n",
       "      <td>0</td>\n",
       "      <td>0</td>\n",
       "      <td>0</td>\n",
       "      <td>0</td>\n",
       "      <td>0</td>\n",
       "      <td>0</td>\n",
       "      <td>0</td>\n",
       "      <td>0</td>\n",
       "      <td>0</td>\n",
       "      <td>0</td>\n",
       "      <td>0</td>\n",
       "      <td>0</td>\n",
       "      <td>0</td>\n",
       "      <td>0</td>\n",
       "      <td>0</td>\n",
       "      <td>0</td>\n",
       "      <td>0</td>\n",
       "      <td>0</td>\n",
       "    </tr>\n",
       "  </tbody>\n",
       "</table>\n",
       "<p>2 rows × 3123 columns</p>\n",
       "</div>"
      ],
      "text/plain": [
       "       cuisine  00  10  100  14  ...  zesty  zinfandel  ziti  zucchini  épices\n",
       "0        greek   0   0    0   0  ...      0          0     0         0       0\n",
       "1  southern_us   0   0    0   0  ...      0          0     0         0       0\n",
       "\n",
       "[2 rows x 3123 columns]"
      ]
     },
     "execution_count": 44,
     "metadata": {
      "tags": []
     },
     "output_type": "execute_result"
    }
   ],
   "source": [
    "train_data1.head(2)"
   ]
  },
  {
   "cell_type": "markdown",
   "metadata": {
    "id": "mSyT_tOx2cRV"
   },
   "source": [
    "### Further preprocessing on Test data"
   ]
  },
  {
   "cell_type": "code",
   "execution_count": 45,
   "metadata": {
    "colab": {
     "base_uri": "https://localhost:8080/"
    },
    "executionInfo": {
     "elapsed": 19,
     "status": "ok",
     "timestamp": 1622669598360,
     "user": {
      "displayName": "Himanshu Rai",
      "photoUrl": "",
      "userId": "05553162241328899148"
     },
     "user_tz": -330
    },
    "id": "upRjHbyP2cRV",
    "outputId": "156fd57b-edda-4d68-bd3b-01d748365b3c"
   },
   "outputs": [
    {
     "data": {
      "text/plain": [
       "(9944, 3122)"
      ]
     },
     "execution_count": 45,
     "metadata": {
      "tags": []
     },
     "output_type": "execute_result"
    }
   ],
   "source": [
    "test_data1.shape"
   ]
  },
  {
   "cell_type": "code",
   "execution_count": 46,
   "metadata": {
    "colab": {
     "base_uri": "https://localhost:8080/",
     "height": 0
    },
    "executionInfo": {
     "elapsed": 18,
     "status": "ok",
     "timestamp": 1622669598361,
     "user": {
      "displayName": "Himanshu Rai",
      "photoUrl": "",
      "userId": "05553162241328899148"
     },
     "user_tz": -330
    },
    "id": "NZqOo-Ov2cRW",
    "outputId": "4b5fb384-2393-4c22-cf39-3a2b33267236"
   },
   "outputs": [
    {
     "data": {
      "text/html": [
       "<div>\n",
       "<style scoped>\n",
       "    .dataframe tbody tr th:only-of-type {\n",
       "        vertical-align: middle;\n",
       "    }\n",
       "\n",
       "    .dataframe tbody tr th {\n",
       "        vertical-align: top;\n",
       "    }\n",
       "\n",
       "    .dataframe thead th {\n",
       "        text-align: right;\n",
       "    }\n",
       "</style>\n",
       "<table border=\"1\" class=\"dataframe\">\n",
       "  <thead>\n",
       "    <tr style=\"text-align: right;\">\n",
       "      <th></th>\n",
       "      <th>00</th>\n",
       "      <th>10</th>\n",
       "      <th>100</th>\n",
       "      <th>14</th>\n",
       "      <th>15</th>\n",
       "      <th>25</th>\n",
       "      <th>33</th>\n",
       "      <th>40</th>\n",
       "      <th>43</th>\n",
       "      <th>50</th>\n",
       "      <th>95</th>\n",
       "      <th>96</th>\n",
       "      <th>abalone</th>\n",
       "      <th>abbamele</th>\n",
       "      <th>absinthe</th>\n",
       "      <th>abura</th>\n",
       "      <th>acai</th>\n",
       "      <th>accent</th>\n",
       "      <th>accompaniment</th>\n",
       "      <th>achiote</th>\n",
       "      <th>acid</th>\n",
       "      <th>acini</th>\n",
       "      <th>ackee</th>\n",
       "      <th>acorn</th>\n",
       "      <th>acting</th>\n",
       "      <th>activ</th>\n",
       "      <th>active</th>\n",
       "      <th>added</th>\n",
       "      <th>adobo</th>\n",
       "      <th>adzuki</th>\n",
       "      <th>agar</th>\n",
       "      <th>agave</th>\n",
       "      <th>age</th>\n",
       "      <th>aged</th>\n",
       "      <th>ahi</th>\n",
       "      <th>aioli</th>\n",
       "      <th>ajinomoto</th>\n",
       "      <th>ajwain</th>\n",
       "      <th>aka</th>\n",
       "      <th>alaskan</th>\n",
       "      <th>...</th>\n",
       "      <th>wrappers</th>\n",
       "      <th>wraps</th>\n",
       "      <th>xanthan</th>\n",
       "      <th>xuxu</th>\n",
       "      <th>yaki</th>\n",
       "      <th>yakisoba</th>\n",
       "      <th>yam</th>\n",
       "      <th>yams</th>\n",
       "      <th>yardlong</th>\n",
       "      <th>yeast</th>\n",
       "      <th>yellow</th>\n",
       "      <th>yellowfin</th>\n",
       "      <th>yellowtail</th>\n",
       "      <th>yodel</th>\n",
       "      <th>yoghurt</th>\n",
       "      <th>yogurt</th>\n",
       "      <th>yolk</th>\n",
       "      <th>yolks</th>\n",
       "      <th>yoplait</th>\n",
       "      <th>york</th>\n",
       "      <th>young</th>\n",
       "      <th>yu</th>\n",
       "      <th>yuba</th>\n",
       "      <th>yuca</th>\n",
       "      <th>yucca</th>\n",
       "      <th>yukon</th>\n",
       "      <th>yum</th>\n",
       "      <th>yuzu</th>\n",
       "      <th>yuzukosho</th>\n",
       "      <th>za</th>\n",
       "      <th>zabaglione</th>\n",
       "      <th>zatarain</th>\n",
       "      <th>zatarains</th>\n",
       "      <th>zero</th>\n",
       "      <th>zest</th>\n",
       "      <th>zesty</th>\n",
       "      <th>zinfandel</th>\n",
       "      <th>ziti</th>\n",
       "      <th>zucchini</th>\n",
       "      <th>épices</th>\n",
       "    </tr>\n",
       "  </thead>\n",
       "  <tbody>\n",
       "    <tr>\n",
       "      <th>0</th>\n",
       "      <td>0</td>\n",
       "      <td>0</td>\n",
       "      <td>0</td>\n",
       "      <td>0</td>\n",
       "      <td>0</td>\n",
       "      <td>0</td>\n",
       "      <td>0</td>\n",
       "      <td>0</td>\n",
       "      <td>0</td>\n",
       "      <td>0</td>\n",
       "      <td>0</td>\n",
       "      <td>0</td>\n",
       "      <td>0</td>\n",
       "      <td>0</td>\n",
       "      <td>0</td>\n",
       "      <td>0</td>\n",
       "      <td>0</td>\n",
       "      <td>0</td>\n",
       "      <td>0</td>\n",
       "      <td>0</td>\n",
       "      <td>0</td>\n",
       "      <td>0</td>\n",
       "      <td>0</td>\n",
       "      <td>0</td>\n",
       "      <td>0</td>\n",
       "      <td>0</td>\n",
       "      <td>0</td>\n",
       "      <td>0</td>\n",
       "      <td>0</td>\n",
       "      <td>0</td>\n",
       "      <td>0</td>\n",
       "      <td>0</td>\n",
       "      <td>0</td>\n",
       "      <td>0</td>\n",
       "      <td>0</td>\n",
       "      <td>0</td>\n",
       "      <td>0</td>\n",
       "      <td>0</td>\n",
       "      <td>0</td>\n",
       "      <td>0</td>\n",
       "      <td>...</td>\n",
       "      <td>0</td>\n",
       "      <td>0</td>\n",
       "      <td>0</td>\n",
       "      <td>0</td>\n",
       "      <td>0</td>\n",
       "      <td>0</td>\n",
       "      <td>0</td>\n",
       "      <td>0</td>\n",
       "      <td>0</td>\n",
       "      <td>0</td>\n",
       "      <td>0</td>\n",
       "      <td>0</td>\n",
       "      <td>0</td>\n",
       "      <td>0</td>\n",
       "      <td>0</td>\n",
       "      <td>0</td>\n",
       "      <td>0</td>\n",
       "      <td>0</td>\n",
       "      <td>0</td>\n",
       "      <td>0</td>\n",
       "      <td>0</td>\n",
       "      <td>0</td>\n",
       "      <td>0</td>\n",
       "      <td>0</td>\n",
       "      <td>0</td>\n",
       "      <td>0</td>\n",
       "      <td>0</td>\n",
       "      <td>0</td>\n",
       "      <td>0</td>\n",
       "      <td>0</td>\n",
       "      <td>0</td>\n",
       "      <td>0</td>\n",
       "      <td>0</td>\n",
       "      <td>0</td>\n",
       "      <td>0</td>\n",
       "      <td>0</td>\n",
       "      <td>0</td>\n",
       "      <td>0</td>\n",
       "      <td>0</td>\n",
       "      <td>0</td>\n",
       "    </tr>\n",
       "    <tr>\n",
       "      <th>1</th>\n",
       "      <td>0</td>\n",
       "      <td>0</td>\n",
       "      <td>0</td>\n",
       "      <td>0</td>\n",
       "      <td>0</td>\n",
       "      <td>0</td>\n",
       "      <td>0</td>\n",
       "      <td>0</td>\n",
       "      <td>0</td>\n",
       "      <td>0</td>\n",
       "      <td>0</td>\n",
       "      <td>0</td>\n",
       "      <td>0</td>\n",
       "      <td>0</td>\n",
       "      <td>0</td>\n",
       "      <td>0</td>\n",
       "      <td>0</td>\n",
       "      <td>0</td>\n",
       "      <td>0</td>\n",
       "      <td>0</td>\n",
       "      <td>0</td>\n",
       "      <td>0</td>\n",
       "      <td>0</td>\n",
       "      <td>0</td>\n",
       "      <td>0</td>\n",
       "      <td>0</td>\n",
       "      <td>0</td>\n",
       "      <td>0</td>\n",
       "      <td>0</td>\n",
       "      <td>0</td>\n",
       "      <td>0</td>\n",
       "      <td>0</td>\n",
       "      <td>0</td>\n",
       "      <td>0</td>\n",
       "      <td>0</td>\n",
       "      <td>0</td>\n",
       "      <td>0</td>\n",
       "      <td>0</td>\n",
       "      <td>0</td>\n",
       "      <td>0</td>\n",
       "      <td>...</td>\n",
       "      <td>0</td>\n",
       "      <td>0</td>\n",
       "      <td>0</td>\n",
       "      <td>0</td>\n",
       "      <td>0</td>\n",
       "      <td>0</td>\n",
       "      <td>0</td>\n",
       "      <td>0</td>\n",
       "      <td>0</td>\n",
       "      <td>0</td>\n",
       "      <td>0</td>\n",
       "      <td>0</td>\n",
       "      <td>0</td>\n",
       "      <td>0</td>\n",
       "      <td>0</td>\n",
       "      <td>0</td>\n",
       "      <td>0</td>\n",
       "      <td>1</td>\n",
       "      <td>0</td>\n",
       "      <td>0</td>\n",
       "      <td>0</td>\n",
       "      <td>0</td>\n",
       "      <td>0</td>\n",
       "      <td>0</td>\n",
       "      <td>0</td>\n",
       "      <td>0</td>\n",
       "      <td>0</td>\n",
       "      <td>0</td>\n",
       "      <td>0</td>\n",
       "      <td>0</td>\n",
       "      <td>0</td>\n",
       "      <td>0</td>\n",
       "      <td>0</td>\n",
       "      <td>0</td>\n",
       "      <td>0</td>\n",
       "      <td>0</td>\n",
       "      <td>0</td>\n",
       "      <td>0</td>\n",
       "      <td>0</td>\n",
       "      <td>0</td>\n",
       "    </tr>\n",
       "    <tr>\n",
       "      <th>2</th>\n",
       "      <td>0</td>\n",
       "      <td>0</td>\n",
       "      <td>0</td>\n",
       "      <td>0</td>\n",
       "      <td>0</td>\n",
       "      <td>0</td>\n",
       "      <td>0</td>\n",
       "      <td>0</td>\n",
       "      <td>0</td>\n",
       "      <td>0</td>\n",
       "      <td>0</td>\n",
       "      <td>0</td>\n",
       "      <td>0</td>\n",
       "      <td>0</td>\n",
       "      <td>0</td>\n",
       "      <td>0</td>\n",
       "      <td>0</td>\n",
       "      <td>0</td>\n",
       "      <td>0</td>\n",
       "      <td>0</td>\n",
       "      <td>0</td>\n",
       "      <td>0</td>\n",
       "      <td>0</td>\n",
       "      <td>0</td>\n",
       "      <td>0</td>\n",
       "      <td>0</td>\n",
       "      <td>0</td>\n",
       "      <td>0</td>\n",
       "      <td>0</td>\n",
       "      <td>0</td>\n",
       "      <td>0</td>\n",
       "      <td>0</td>\n",
       "      <td>0</td>\n",
       "      <td>0</td>\n",
       "      <td>0</td>\n",
       "      <td>0</td>\n",
       "      <td>0</td>\n",
       "      <td>0</td>\n",
       "      <td>0</td>\n",
       "      <td>0</td>\n",
       "      <td>...</td>\n",
       "      <td>0</td>\n",
       "      <td>0</td>\n",
       "      <td>0</td>\n",
       "      <td>0</td>\n",
       "      <td>0</td>\n",
       "      <td>0</td>\n",
       "      <td>0</td>\n",
       "      <td>0</td>\n",
       "      <td>0</td>\n",
       "      <td>0</td>\n",
       "      <td>0</td>\n",
       "      <td>0</td>\n",
       "      <td>0</td>\n",
       "      <td>0</td>\n",
       "      <td>0</td>\n",
       "      <td>0</td>\n",
       "      <td>0</td>\n",
       "      <td>0</td>\n",
       "      <td>0</td>\n",
       "      <td>0</td>\n",
       "      <td>0</td>\n",
       "      <td>0</td>\n",
       "      <td>0</td>\n",
       "      <td>0</td>\n",
       "      <td>0</td>\n",
       "      <td>0</td>\n",
       "      <td>0</td>\n",
       "      <td>0</td>\n",
       "      <td>0</td>\n",
       "      <td>0</td>\n",
       "      <td>0</td>\n",
       "      <td>0</td>\n",
       "      <td>0</td>\n",
       "      <td>0</td>\n",
       "      <td>0</td>\n",
       "      <td>0</td>\n",
       "      <td>0</td>\n",
       "      <td>0</td>\n",
       "      <td>0</td>\n",
       "      <td>0</td>\n",
       "    </tr>\n",
       "    <tr>\n",
       "      <th>3</th>\n",
       "      <td>0</td>\n",
       "      <td>0</td>\n",
       "      <td>0</td>\n",
       "      <td>0</td>\n",
       "      <td>0</td>\n",
       "      <td>0</td>\n",
       "      <td>0</td>\n",
       "      <td>0</td>\n",
       "      <td>0</td>\n",
       "      <td>0</td>\n",
       "      <td>0</td>\n",
       "      <td>0</td>\n",
       "      <td>0</td>\n",
       "      <td>0</td>\n",
       "      <td>0</td>\n",
       "      <td>0</td>\n",
       "      <td>0</td>\n",
       "      <td>0</td>\n",
       "      <td>0</td>\n",
       "      <td>0</td>\n",
       "      <td>0</td>\n",
       "      <td>0</td>\n",
       "      <td>0</td>\n",
       "      <td>0</td>\n",
       "      <td>0</td>\n",
       "      <td>0</td>\n",
       "      <td>0</td>\n",
       "      <td>0</td>\n",
       "      <td>0</td>\n",
       "      <td>0</td>\n",
       "      <td>0</td>\n",
       "      <td>0</td>\n",
       "      <td>0</td>\n",
       "      <td>0</td>\n",
       "      <td>0</td>\n",
       "      <td>0</td>\n",
       "      <td>0</td>\n",
       "      <td>0</td>\n",
       "      <td>0</td>\n",
       "      <td>0</td>\n",
       "      <td>...</td>\n",
       "      <td>0</td>\n",
       "      <td>0</td>\n",
       "      <td>0</td>\n",
       "      <td>0</td>\n",
       "      <td>0</td>\n",
       "      <td>0</td>\n",
       "      <td>0</td>\n",
       "      <td>0</td>\n",
       "      <td>0</td>\n",
       "      <td>0</td>\n",
       "      <td>1</td>\n",
       "      <td>0</td>\n",
       "      <td>0</td>\n",
       "      <td>0</td>\n",
       "      <td>0</td>\n",
       "      <td>0</td>\n",
       "      <td>0</td>\n",
       "      <td>0</td>\n",
       "      <td>0</td>\n",
       "      <td>0</td>\n",
       "      <td>0</td>\n",
       "      <td>0</td>\n",
       "      <td>0</td>\n",
       "      <td>0</td>\n",
       "      <td>0</td>\n",
       "      <td>0</td>\n",
       "      <td>0</td>\n",
       "      <td>0</td>\n",
       "      <td>0</td>\n",
       "      <td>0</td>\n",
       "      <td>0</td>\n",
       "      <td>0</td>\n",
       "      <td>0</td>\n",
       "      <td>0</td>\n",
       "      <td>0</td>\n",
       "      <td>0</td>\n",
       "      <td>0</td>\n",
       "      <td>0</td>\n",
       "      <td>0</td>\n",
       "      <td>0</td>\n",
       "    </tr>\n",
       "    <tr>\n",
       "      <th>4</th>\n",
       "      <td>0</td>\n",
       "      <td>0</td>\n",
       "      <td>0</td>\n",
       "      <td>0</td>\n",
       "      <td>0</td>\n",
       "      <td>0</td>\n",
       "      <td>0</td>\n",
       "      <td>0</td>\n",
       "      <td>0</td>\n",
       "      <td>0</td>\n",
       "      <td>0</td>\n",
       "      <td>0</td>\n",
       "      <td>0</td>\n",
       "      <td>0</td>\n",
       "      <td>0</td>\n",
       "      <td>0</td>\n",
       "      <td>0</td>\n",
       "      <td>0</td>\n",
       "      <td>0</td>\n",
       "      <td>0</td>\n",
       "      <td>0</td>\n",
       "      <td>0</td>\n",
       "      <td>0</td>\n",
       "      <td>0</td>\n",
       "      <td>0</td>\n",
       "      <td>0</td>\n",
       "      <td>0</td>\n",
       "      <td>0</td>\n",
       "      <td>0</td>\n",
       "      <td>0</td>\n",
       "      <td>0</td>\n",
       "      <td>0</td>\n",
       "      <td>0</td>\n",
       "      <td>0</td>\n",
       "      <td>0</td>\n",
       "      <td>0</td>\n",
       "      <td>0</td>\n",
       "      <td>0</td>\n",
       "      <td>0</td>\n",
       "      <td>0</td>\n",
       "      <td>...</td>\n",
       "      <td>0</td>\n",
       "      <td>0</td>\n",
       "      <td>0</td>\n",
       "      <td>0</td>\n",
       "      <td>0</td>\n",
       "      <td>0</td>\n",
       "      <td>0</td>\n",
       "      <td>0</td>\n",
       "      <td>0</td>\n",
       "      <td>0</td>\n",
       "      <td>0</td>\n",
       "      <td>0</td>\n",
       "      <td>0</td>\n",
       "      <td>0</td>\n",
       "      <td>0</td>\n",
       "      <td>0</td>\n",
       "      <td>0</td>\n",
       "      <td>0</td>\n",
       "      <td>0</td>\n",
       "      <td>0</td>\n",
       "      <td>0</td>\n",
       "      <td>0</td>\n",
       "      <td>0</td>\n",
       "      <td>0</td>\n",
       "      <td>0</td>\n",
       "      <td>0</td>\n",
       "      <td>0</td>\n",
       "      <td>0</td>\n",
       "      <td>0</td>\n",
       "      <td>0</td>\n",
       "      <td>0</td>\n",
       "      <td>0</td>\n",
       "      <td>0</td>\n",
       "      <td>0</td>\n",
       "      <td>0</td>\n",
       "      <td>0</td>\n",
       "      <td>0</td>\n",
       "      <td>0</td>\n",
       "      <td>0</td>\n",
       "      <td>0</td>\n",
       "    </tr>\n",
       "  </tbody>\n",
       "</table>\n",
       "<p>5 rows × 3122 columns</p>\n",
       "</div>"
      ],
      "text/plain": [
       "   00  10  100  14  15  25  ...  zest  zesty  zinfandel  ziti  zucchini  épices\n",
       "0   0   0    0   0   0   0  ...     0      0          0     0         0       0\n",
       "1   0   0    0   0   0   0  ...     0      0          0     0         0       0\n",
       "2   0   0    0   0   0   0  ...     0      0          0     0         0       0\n",
       "3   0   0    0   0   0   0  ...     0      0          0     0         0       0\n",
       "4   0   0    0   0   0   0  ...     0      0          0     0         0       0\n",
       "\n",
       "[5 rows x 3122 columns]"
      ]
     },
     "execution_count": 46,
     "metadata": {
      "tags": []
     },
     "output_type": "execute_result"
    }
   ],
   "source": [
    "test_data1.head()"
   ]
  },
  {
   "cell_type": "code",
   "execution_count": 47,
   "metadata": {
    "executionInfo": {
     "elapsed": 19,
     "status": "ok",
     "timestamp": 1622669598363,
     "user": {
      "displayName": "Himanshu Rai",
      "photoUrl": "",
      "userId": "05553162241328899148"
     },
     "user_tz": -330
    },
    "id": "ayuTSmlm2cRW"
   },
   "outputs": [],
   "source": [
    "test_data1.drop(\"cuisine\",axis=1,inplace=True) "
   ]
  },
  {
   "cell_type": "code",
   "execution_count": 48,
   "metadata": {
    "colab": {
     "base_uri": "https://localhost:8080/"
    },
    "executionInfo": {
     "elapsed": 17,
     "status": "ok",
     "timestamp": 1622669598364,
     "user": {
      "displayName": "Himanshu Rai",
      "photoUrl": "",
      "userId": "05553162241328899148"
     },
     "user_tz": -330
    },
    "id": "c4SF1hRn2cRW",
    "outputId": "3759b44f-92c1-4926-ac4a-dfc8994e4dd4"
   },
   "outputs": [
    {
     "data": {
      "text/plain": [
       "(9944, 3121)"
      ]
     },
     "execution_count": 48,
     "metadata": {
      "tags": []
     },
     "output_type": "execute_result"
    }
   ],
   "source": [
    "test_data1.shape"
   ]
  },
  {
   "cell_type": "markdown",
   "metadata": {
    "id": "X0o4R4QSYxvB"
   },
   "source": [
    "# Split the data into train and test"
   ]
  },
  {
   "cell_type": "code",
   "execution_count": 49,
   "metadata": {
    "executionInfo": {
     "elapsed": 6,
     "status": "ok",
     "timestamp": 1622669598909,
     "user": {
      "displayName": "Himanshu Rai",
      "photoUrl": "",
      "userId": "05553162241328899148"
     },
     "user_tz": -330
    },
    "id": "mvWR5Pen2cRX"
   },
   "outputs": [],
   "source": [
    "train_data_new = train_data1.sample(frac=0.75 , random_state=200) #random state is a seed value\n",
    "val_data = train_data1.drop(train_data_new.index)"
   ]
  },
  {
   "cell_type": "code",
   "execution_count": 50,
   "metadata": {
    "executionInfo": {
     "elapsed": 442,
     "status": "ok",
     "timestamp": 1622669599347,
     "user": {
      "displayName": "Himanshu Rai",
      "photoUrl": "",
      "userId": "05553162241328899148"
     },
     "user_tz": -330
    },
    "id": "uYJsoJ0r2cRY"
   },
   "outputs": [],
   "source": [
    "#Performing train val split on the data\n",
    "X_train, y_train = train_data_new.loc[:,train_data_new.columns!='cuisine'], train_data_new.loc[:,'cuisine']\n",
    "\n",
    "X_val, y_val = val_data.loc[:,val_data.columns!='cuisine'], val_data.loc[:,'cuisine']"
   ]
  },
  {
   "cell_type": "code",
   "execution_count": 51,
   "metadata": {
    "colab": {
     "base_uri": "https://localhost:8080/"
    },
    "executionInfo": {
     "elapsed": 32,
     "status": "ok",
     "timestamp": 1622669599350,
     "user": {
      "displayName": "Himanshu Rai",
      "photoUrl": "",
      "userId": "05553162241328899148"
     },
     "user_tz": -330
    },
    "id": "rNkF067nZC_K",
    "outputId": "b3a4d3f7-737f-4d7d-9244-a0d7393dc938"
   },
   "outputs": [
    {
     "name": "stdout",
     "output_type": "stream",
     "text": [
      "(29830, 3121)\n",
      "(9944, 3121)\n",
      "(29830, 2)\n",
      "(9944, 2)\n",
      "(9944, 3121)\n"
     ]
    }
   ],
   "source": [
    "print(X_train.shape)\n",
    "print(X_val.shape)\n",
    "print(y_train.shape)\n",
    "print(y_val.shape)\n",
    "print(test_data1.shape)"
   ]
  },
  {
   "cell_type": "code",
   "execution_count": 52,
   "metadata": {
    "colab": {
     "base_uri": "https://localhost:8080/",
     "height": 198
    },
    "executionInfo": {
     "elapsed": 29,
     "status": "ok",
     "timestamp": 1622669599354,
     "user": {
      "displayName": "Himanshu Rai",
      "photoUrl": "",
      "userId": "05553162241328899148"
     },
     "user_tz": -330
    },
    "id": "LSy4WrxX2cRZ",
    "outputId": "8f681759-9df9-4420-ddf4-3c3a1147e08d"
   },
   "outputs": [
    {
     "data": {
      "text/html": [
       "<div>\n",
       "<style scoped>\n",
       "    .dataframe tbody tr th:only-of-type {\n",
       "        vertical-align: middle;\n",
       "    }\n",
       "\n",
       "    .dataframe tbody tr th {\n",
       "        vertical-align: top;\n",
       "    }\n",
       "\n",
       "    .dataframe thead th {\n",
       "        text-align: right;\n",
       "    }\n",
       "</style>\n",
       "<table border=\"1\" class=\"dataframe\">\n",
       "  <thead>\n",
       "    <tr style=\"text-align: right;\">\n",
       "      <th></th>\n",
       "      <th>cuisine</th>\n",
       "      <th>cuisine</th>\n",
       "    </tr>\n",
       "  </thead>\n",
       "  <tbody>\n",
       "    <tr>\n",
       "      <th>8937</th>\n",
       "      <td>southern_us</td>\n",
       "      <td>0</td>\n",
       "    </tr>\n",
       "    <tr>\n",
       "      <th>29679</th>\n",
       "      <td>russian</td>\n",
       "      <td>0</td>\n",
       "    </tr>\n",
       "    <tr>\n",
       "      <th>15616</th>\n",
       "      <td>spanish</td>\n",
       "      <td>0</td>\n",
       "    </tr>\n",
       "    <tr>\n",
       "      <th>3239</th>\n",
       "      <td>french</td>\n",
       "      <td>0</td>\n",
       "    </tr>\n",
       "    <tr>\n",
       "      <th>17395</th>\n",
       "      <td>southern_us</td>\n",
       "      <td>0</td>\n",
       "    </tr>\n",
       "  </tbody>\n",
       "</table>\n",
       "</div>"
      ],
      "text/plain": [
       "           cuisine  cuisine\n",
       "8937   southern_us        0\n",
       "29679      russian        0\n",
       "15616      spanish        0\n",
       "3239        french        0\n",
       "17395  southern_us        0"
      ]
     },
     "execution_count": 52,
     "metadata": {
      "tags": []
     },
     "output_type": "execute_result"
    }
   ],
   "source": [
    "y_train.head()"
   ]
  },
  {
   "cell_type": "code",
   "execution_count": 53,
   "metadata": {
    "executionInfo": {
     "elapsed": 26,
     "status": "ok",
     "timestamp": 1622669599356,
     "user": {
      "displayName": "Himanshu Rai",
      "photoUrl": "",
      "userId": "05553162241328899148"
     },
     "user_tz": -330
    },
    "id": "Mh5cBm3c2cRZ"
   },
   "outputs": [],
   "source": [
    "y_val.columns=['cuisine','b']\n",
    "y_train.columns=['cuisine','b']"
   ]
  },
  {
   "cell_type": "code",
   "execution_count": 54,
   "metadata": {
    "colab": {
     "base_uri": "https://localhost:8080/",
     "height": 198
    },
    "executionInfo": {
     "elapsed": 26,
     "status": "ok",
     "timestamp": 1622669599358,
     "user": {
      "displayName": "Himanshu Rai",
      "photoUrl": "",
      "userId": "05553162241328899148"
     },
     "user_tz": -330
    },
    "id": "d7wLArws2cRZ",
    "outputId": "a6adf71d-20f5-43f7-f14f-386b45c50284"
   },
   "outputs": [
    {
     "data": {
      "text/html": [
       "<div>\n",
       "<style scoped>\n",
       "    .dataframe tbody tr th:only-of-type {\n",
       "        vertical-align: middle;\n",
       "    }\n",
       "\n",
       "    .dataframe tbody tr th {\n",
       "        vertical-align: top;\n",
       "    }\n",
       "\n",
       "    .dataframe thead th {\n",
       "        text-align: right;\n",
       "    }\n",
       "</style>\n",
       "<table border=\"1\" class=\"dataframe\">\n",
       "  <thead>\n",
       "    <tr style=\"text-align: right;\">\n",
       "      <th></th>\n",
       "      <th>cuisine</th>\n",
       "      <th>b</th>\n",
       "    </tr>\n",
       "  </thead>\n",
       "  <tbody>\n",
       "    <tr>\n",
       "      <th>2</th>\n",
       "      <td>filipino</td>\n",
       "      <td>0</td>\n",
       "    </tr>\n",
       "    <tr>\n",
       "      <th>3</th>\n",
       "      <td>indian</td>\n",
       "      <td>0</td>\n",
       "    </tr>\n",
       "    <tr>\n",
       "      <th>4</th>\n",
       "      <td>indian</td>\n",
       "      <td>0</td>\n",
       "    </tr>\n",
       "    <tr>\n",
       "      <th>5</th>\n",
       "      <td>jamaican</td>\n",
       "      <td>0</td>\n",
       "    </tr>\n",
       "    <tr>\n",
       "      <th>11</th>\n",
       "      <td>chinese</td>\n",
       "      <td>0</td>\n",
       "    </tr>\n",
       "  </tbody>\n",
       "</table>\n",
       "</div>"
      ],
      "text/plain": [
       "     cuisine  b\n",
       "2   filipino  0\n",
       "3     indian  0\n",
       "4     indian  0\n",
       "5   jamaican  0\n",
       "11   chinese  0"
      ]
     },
     "execution_count": 54,
     "metadata": {
      "tags": []
     },
     "output_type": "execute_result"
    }
   ],
   "source": [
    "y_val.head()"
   ]
  },
  {
   "cell_type": "code",
   "execution_count": 55,
   "metadata": {
    "colab": {
     "base_uri": "https://localhost:8080/",
     "height": 198
    },
    "executionInfo": {
     "elapsed": 439,
     "status": "ok",
     "timestamp": 1622669599774,
     "user": {
      "displayName": "Himanshu Rai",
      "photoUrl": "",
      "userId": "05553162241328899148"
     },
     "user_tz": -330
    },
    "id": "Lulnc7yz2cRa",
    "outputId": "60ada7a9-5a61-4f2e-b23e-aceb313c6345",
    "scrolled": true
   },
   "outputs": [
    {
     "data": {
      "text/html": [
       "<div>\n",
       "<style scoped>\n",
       "    .dataframe tbody tr th:only-of-type {\n",
       "        vertical-align: middle;\n",
       "    }\n",
       "\n",
       "    .dataframe tbody tr th {\n",
       "        vertical-align: top;\n",
       "    }\n",
       "\n",
       "    .dataframe thead th {\n",
       "        text-align: right;\n",
       "    }\n",
       "</style>\n",
       "<table border=\"1\" class=\"dataframe\">\n",
       "  <thead>\n",
       "    <tr style=\"text-align: right;\">\n",
       "      <th></th>\n",
       "      <th>cuisine</th>\n",
       "      <th>b</th>\n",
       "    </tr>\n",
       "  </thead>\n",
       "  <tbody>\n",
       "    <tr>\n",
       "      <th>8937</th>\n",
       "      <td>southern_us</td>\n",
       "      <td>0</td>\n",
       "    </tr>\n",
       "    <tr>\n",
       "      <th>29679</th>\n",
       "      <td>russian</td>\n",
       "      <td>0</td>\n",
       "    </tr>\n",
       "    <tr>\n",
       "      <th>15616</th>\n",
       "      <td>spanish</td>\n",
       "      <td>0</td>\n",
       "    </tr>\n",
       "    <tr>\n",
       "      <th>3239</th>\n",
       "      <td>french</td>\n",
       "      <td>0</td>\n",
       "    </tr>\n",
       "    <tr>\n",
       "      <th>17395</th>\n",
       "      <td>southern_us</td>\n",
       "      <td>0</td>\n",
       "    </tr>\n",
       "  </tbody>\n",
       "</table>\n",
       "</div>"
      ],
      "text/plain": [
       "           cuisine  b\n",
       "8937   southern_us  0\n",
       "29679      russian  0\n",
       "15616      spanish  0\n",
       "3239        french  0\n",
       "17395  southern_us  0"
      ]
     },
     "execution_count": 55,
     "metadata": {
      "tags": []
     },
     "output_type": "execute_result"
    }
   ],
   "source": [
    "y_train.head()"
   ]
  },
  {
   "cell_type": "code",
   "execution_count": 56,
   "metadata": {
    "executionInfo": {
     "elapsed": 29,
     "status": "ok",
     "timestamp": 1622669599777,
     "user": {
      "displayName": "Himanshu Rai",
      "photoUrl": "",
      "userId": "05553162241328899148"
     },
     "user_tz": -330
    },
    "id": "7e-IhBpY2cRa"
   },
   "outputs": [],
   "source": [
    "y_val.drop(\"b\",axis=1,inplace=True)\n",
    "y_train.drop(\"b\",axis=1,inplace=True)"
   ]
  },
  {
   "cell_type": "code",
   "execution_count": 57,
   "metadata": {
    "executionInfo": {
     "elapsed": 29,
     "status": "ok",
     "timestamp": 1622669599778,
     "user": {
      "displayName": "Himanshu Rai",
      "photoUrl": "",
      "userId": "05553162241328899148"
     },
     "user_tz": -330
    },
    "id": "KGQli3RF2cRa"
   },
   "outputs": [],
   "source": [
    "from sklearn.preprocessing import LabelEncoder\n",
    "lbl_enc = LabelEncoder()\n",
    "y_train = lbl_enc.fit_transform(y_train)\n",
    "y_val = lbl_enc.fit_transform(y_val)"
   ]
  },
  {
   "cell_type": "code",
   "execution_count": 58,
   "metadata": {
    "colab": {
     "base_uri": "https://localhost:8080/"
    },
    "executionInfo": {
     "elapsed": 29,
     "status": "ok",
     "timestamp": 1622669599780,
     "user": {
      "displayName": "Himanshu Rai",
      "photoUrl": "",
      "userId": "05553162241328899148"
     },
     "user_tz": -330
    },
    "id": "FqtYc_ks2cRc",
    "outputId": "b1ab0bf3-e1c1-452d-be27-24908ac18307"
   },
   "outputs": [
    {
     "name": "stdout",
     "output_type": "stream",
     "text": [
      "(29830, 3121)\n",
      "(29830,)\n",
      "(9944, 3121)\n",
      "(9944,)\n",
      "(9944, 3121)\n"
     ]
    }
   ],
   "source": [
    "print(X_train.shape)\n",
    "print(y_train.shape)\n",
    "print(X_val.shape)\n",
    "print(y_val.shape)\n",
    "print(test_data1.shape)"
   ]
  },
  {
   "cell_type": "markdown",
   "metadata": {
    "id": "R9tIUGVy2cRc"
   },
   "source": [
    "# Preparation for Model buillding\n",
    "\n"
   ]
  },
  {
   "cell_type": "markdown",
   "metadata": {
    "id": "LLLTFsJP2cRd"
   },
   "source": [
    "## Classification report"
   ]
  },
  {
   "cell_type": "code",
   "execution_count": 59,
   "metadata": {
    "executionInfo": {
     "elapsed": 25,
     "status": "ok",
     "timestamp": 1622669599782,
     "user": {
      "displayName": "Himanshu Rai",
      "photoUrl": "",
      "userId": "05553162241328899148"
     },
     "user_tz": -330
    },
    "id": "sxK0LeeP2cRd",
    "scrolled": true
   },
   "outputs": [],
   "source": [
    "def get_CR_CM(train_actual,train_predicted,test_actual,test_predicted):\n",
    "    print('''\n",
    "         ========================================\n",
    "           CLASSIFICATION REPORT FOR TRAIN DATA\n",
    "         ========================================\n",
    "        ''')\n",
    "    print(classification_report(train_actual, train_predicted, digits=4))\n",
    "\n",
    "    print('''\n",
    "             =============================================\n",
    "               CLASSIFICATION REPORT FOR VALIDATION DATA\n",
    "             =============================================\n",
    "            ''')\n",
    "    print(classification_report(test_actual, test_predicted, digits=4))\n",
    "    "
   ]
  },
  {
   "cell_type": "markdown",
   "metadata": {
    "id": "2Y6n5X382cRd"
   },
   "source": [
    "## Function to calculate accuracy, recall, precision and F1 score# "
   ]
  },
  {
   "cell_type": "code",
   "execution_count": 60,
   "metadata": {
    "executionInfo": {
     "elapsed": 24,
     "status": "ok",
     "timestamp": 1622669599783,
     "user": {
      "displayName": "Himanshu Rai",
      "photoUrl": "",
      "userId": "05553162241328899148"
     },
     "user_tz": -330
    },
    "id": "Q8AiIscE2cRd",
    "scrolled": true
   },
   "outputs": [],
   "source": [
    "scores = pd.DataFrame(columns=['Model','Train_Accuracy','Train_Recall','Train_Precision','Train_F1_Score','Test_Accuracy','Test_Recall','Test_Precision','Test_F1_Score'])\n",
    "\n",
    "def get_metrics(train_actual,train_predicted,test_actual,test_predicted,model_description,dataframe):\n",
    "    get_CR_CM(train_actual,train_predicted,test_actual,test_predicted)\n",
    "    train_accuracy = accuracy_score(train_actual,train_predicted)\n",
    "    train_recall   = recall_score(train_actual,train_predicted,average ='weighted')\n",
    "    train_precision= precision_score(train_actual,train_predicted,average ='weighted')\n",
    "    train_f1score  = f1_score(train_actual,train_predicted,average ='weighted')\n",
    "    test_accuracy = accuracy_score(test_actual,test_predicted)\n",
    "    test_recall   = recall_score(test_actual,test_predicted,average ='weighted')\n",
    "    test_precision= precision_score(test_actual,test_predicted,average ='weighted')\n",
    "    test_f1score  = f1_score(test_actual,test_predicted,average ='weighted')\n",
    "    dataframe = dataframe.append(pd.Series([model_description, train_accuracy,train_recall,train_precision,train_f1score,\n",
    "                                            test_accuracy,test_recall,test_precision,test_f1score],\n",
    "                                           index=scores.columns ), ignore_index=True)\n",
    "    return(dataframe)"
   ]
  },
  {
   "cell_type": "markdown",
   "metadata": {
    "id": "4qGaqpbR2cRe"
   },
   "source": [
    "#  MODEL BUILDING"
   ]
  },
  {
   "cell_type": "markdown",
   "metadata": {
    "id": "5grd1Sqo2cRe"
   },
   "source": [
    "## Logistic Regression"
   ]
  },
  {
   "cell_type": "code",
   "execution_count": null,
   "metadata": {
    "id": "RGQMsRXf2cRe",
    "scrolled": true
   },
   "outputs": [],
   "source": [
    "log_mod = LogisticRegression(random_state=123)"
   ]
  },
  {
   "cell_type": "code",
   "execution_count": null,
   "metadata": {
    "colab": {
     "base_uri": "https://localhost:8080/"
    },
    "executionInfo": {
     "elapsed": 92220,
     "status": "ok",
     "timestamp": 1622555941060,
     "user": {
      "displayName": "Himanshu Rai",
      "photoUrl": "",
      "userId": "05553162241328899148"
     },
     "user_tz": -330
    },
    "id": "zs-f-UR_2cRe",
    "outputId": "fe6d5103-47ea-414d-8a6c-eca0aaef3eec",
    "scrolled": true
   },
   "outputs": [
    {
     "data": {
      "text/plain": [
       "LogisticRegression(C=1.0, class_weight=None, dual=False, fit_intercept=True,\n",
       "                   intercept_scaling=1, l1_ratio=None, max_iter=100,\n",
       "                   multi_class='auto', n_jobs=None, penalty='l2',\n",
       "                   random_state=123, solver='lbfgs', tol=0.0001, verbose=0,\n",
       "                   warm_start=False)"
      ]
     },
     "execution_count": 62,
     "metadata": {
      "tags": []
     },
     "output_type": "execute_result"
    }
   ],
   "source": [
    "log_mod.fit(X_train, y_train)"
   ]
  },
  {
   "cell_type": "code",
   "execution_count": null,
   "metadata": {
    "id": "4gjzTfF32cRf",
    "scrolled": true
   },
   "outputs": [],
   "source": [
    "y_pred_train = log_mod.predict(X_train)\n",
    "y_pred_val = log_mod.predict(X_val)"
   ]
  },
  {
   "cell_type": "markdown",
   "metadata": {
    "id": "MZ7OAoXF2cRf"
   },
   "source": [
    "##### Evaluating the model performance"
   ]
  },
  {
   "cell_type": "code",
   "execution_count": null,
   "metadata": {
    "colab": {
     "base_uri": "https://localhost:8080/",
     "height": 1000
    },
    "executionInfo": {
     "elapsed": 30,
     "status": "ok",
     "timestamp": 1622555943970,
     "user": {
      "displayName": "Himanshu Rai",
      "photoUrl": "",
      "userId": "05553162241328899148"
     },
     "user_tz": -330
    },
    "id": "eVdN30ZZ2cRf",
    "outputId": "42484a9f-c9e1-46e6-8565-b1b9b2ab2094"
   },
   "outputs": [
    {
     "name": "stdout",
     "output_type": "stream",
     "text": [
      "\n",
      "         ========================================\n",
      "           CLASSIFICATION REPORT FOR TRAIN DATA\n",
      "         ========================================\n",
      "        \n",
      "              precision    recall  f1-score   support\n",
      "\n",
      "           0     0.8958    0.7457    0.8139       346\n",
      "           1     0.7737    0.6803    0.7240       613\n",
      "           2     0.8791    0.8075    0.8418      1153\n",
      "           3     0.8722    0.9107    0.8911      2039\n",
      "           4     0.8529    0.7754    0.8123       561\n",
      "           5     0.7291    0.7522    0.7405      1961\n",
      "           6     0.8920    0.8069    0.8473       870\n",
      "           7     0.9076    0.9444    0.9257      2268\n",
      "           8     0.8342    0.6694    0.7428       481\n",
      "           9     0.8648    0.9316    0.8970      5873\n",
      "          10     0.9384    0.8226    0.8767       389\n",
      "          11     0.8946    0.8070    0.8485      1083\n",
      "          12     0.9128    0.8826    0.8975       605\n",
      "          13     0.9350    0.9510    0.9430      4859\n",
      "          14     0.9299    0.8705    0.8992       610\n",
      "          15     0.8425    0.6910    0.7593       356\n",
      "          16     0.8132    0.8708    0.8410      3250\n",
      "          17     0.8106    0.6428    0.7170       739\n",
      "          18     0.8919    0.8636    0.8776      1166\n",
      "          19     0.8654    0.7401    0.7979       608\n",
      "\n",
      "    accuracy                         0.8682     29830\n",
      "   macro avg     0.8668    0.8083    0.8347     29830\n",
      "weighted avg     0.8684    0.8682    0.8668     29830\n",
      "\n",
      "\n",
      "             =============================================\n",
      "               CLASSIFICATION REPORT FOR VALIDATION DATA\n",
      "             =============================================\n",
      "            \n",
      "              precision    recall  f1-score   support\n",
      "\n",
      "           0     0.6771    0.5372    0.5991       121\n",
      "           1     0.5467    0.4293    0.4809       191\n",
      "           2     0.7685    0.6336    0.6946       393\n",
      "           3     0.8027    0.8344    0.8183       634\n",
      "           4     0.6928    0.5928    0.6389       194\n",
      "           5     0.6166    0.6292    0.6228       685\n",
      "           6     0.7739    0.7180    0.7449       305\n",
      "           7     0.8603    0.8966    0.8781       735\n",
      "           8     0.6418    0.4624    0.5375       186\n",
      "           9     0.8049    0.8779    0.8398      1965\n",
      "          10     0.8151    0.7080    0.7578       137\n",
      "          11     0.7914    0.7029    0.7445       340\n",
      "          12     0.8373    0.7778    0.8065       225\n",
      "          13     0.8991    0.9139    0.9064      1579\n",
      "          14     0.8283    0.7773    0.8020       211\n",
      "          15     0.5444    0.3684    0.4395       133\n",
      "          16     0.6768    0.7907    0.7293      1070\n",
      "          17     0.5769    0.4800    0.5240       250\n",
      "          18     0.7665    0.7480    0.7571       373\n",
      "          19     0.6648    0.5484    0.6010       217\n",
      "\n",
      "    accuracy                         0.7734      9944\n",
      "   macro avg     0.7293    0.6713    0.6961      9944\n",
      "weighted avg     0.7701    0.7734    0.7694      9944\n",
      "\n"
     ]
    },
    {
     "data": {
      "text/html": [
       "<div>\n",
       "<style scoped>\n",
       "    .dataframe tbody tr th:only-of-type {\n",
       "        vertical-align: middle;\n",
       "    }\n",
       "\n",
       "    .dataframe tbody tr th {\n",
       "        vertical-align: top;\n",
       "    }\n",
       "\n",
       "    .dataframe thead th {\n",
       "        text-align: right;\n",
       "    }\n",
       "</style>\n",
       "<table border=\"1\" class=\"dataframe\">\n",
       "  <thead>\n",
       "    <tr style=\"text-align: right;\">\n",
       "      <th></th>\n",
       "      <th>Model</th>\n",
       "      <th>Train_Accuracy</th>\n",
       "      <th>Train_Recall</th>\n",
       "      <th>Train_Precision</th>\n",
       "      <th>Train_F1_Score</th>\n",
       "      <th>Test_Accuracy</th>\n",
       "      <th>Test_Recall</th>\n",
       "      <th>Test_Precision</th>\n",
       "      <th>Test_F1_Score</th>\n",
       "    </tr>\n",
       "  </thead>\n",
       "  <tbody>\n",
       "    <tr>\n",
       "      <th>0</th>\n",
       "      <td>LogisticRegression</td>\n",
       "      <td>0.868186</td>\n",
       "      <td>0.868186</td>\n",
       "      <td>0.868404</td>\n",
       "      <td>0.866828</td>\n",
       "      <td>0.773431</td>\n",
       "      <td>0.773431</td>\n",
       "      <td>0.770115</td>\n",
       "      <td>0.769406</td>\n",
       "    </tr>\n",
       "  </tbody>\n",
       "</table>\n",
       "</div>"
      ],
      "text/plain": [
       "                Model  Train_Accuracy  ...  Test_Precision  Test_F1_Score\n",
       "0  LogisticRegression        0.868186  ...        0.770115       0.769406\n",
       "\n",
       "[1 rows x 9 columns]"
      ]
     },
     "execution_count": 64,
     "metadata": {
      "tags": []
     },
     "output_type": "execute_result"
    }
   ],
   "source": [
    "scores = get_metrics(y_train,y_pred_train,y_val,y_pred_val,\"LogisticRegression\",scores)\n",
    "scores"
   ]
  },
  {
   "cell_type": "code",
   "execution_count": null,
   "metadata": {
    "id": "FADXbugS2cRf"
   },
   "outputs": [],
   "source": [
    "y_test = log_mod.predict(test_data1)\n",
    "test_cuisine = lbl_enc.inverse_transform(y_test)\n",
    "d = pd.DataFrame(test_cuisine)\n",
    "d.to_csv(\"submit_log1.csv\")"
   ]
  },
  {
   "cell_type": "markdown",
   "metadata": {
    "id": "2HdlbgIb2cRg"
   },
   "source": [
    "# Ridge Regularization"
   ]
  },
  {
   "cell_type": "code",
   "execution_count": null,
   "metadata": {
    "id": "BjqqSK012cRg"
   },
   "outputs": [],
   "source": [
    "#### TYPE\n",
    "ridge_model = RidgeClassifierCV(fit_intercept=True, alphas=[0.0125, 0.025, 0.05,.1, .125, .25, .5, 1., 2., 4.,10,100])"
   ]
  },
  {
   "cell_type": "code",
   "execution_count": null,
   "metadata": {
    "id": "oONqswIJ2cRg",
    "outputId": "5c6fc5e0-54b7-441d-8e81-f7af65e7ceba",
    "scrolled": true
   },
   "outputs": [
    {
     "data": {
      "text/plain": [
       "RidgeClassifierCV(alphas=array([1.25e-02, 2.50e-02, 5.00e-02, 1.00e-01, 1.25e-01, 2.50e-01,\n",
       "       5.00e-01, 1.00e+00, 2.00e+00, 4.00e+00, 1.00e+01, 1.00e+02]))"
      ]
     },
     "execution_count": 66,
     "metadata": {
      "tags": []
     },
     "output_type": "execute_result"
    }
   ],
   "source": [
    "ridge_model.fit(X_train, y_train)"
   ]
  },
  {
   "cell_type": "code",
   "execution_count": null,
   "metadata": {
    "id": "SYdkQkAq2cRg",
    "scrolled": true
   },
   "outputs": [],
   "source": [
    "y_pred_train = ridge_model.predict(X_train)\n",
    "y_pred_val = ridge_model.predict(X_val)"
   ]
  },
  {
   "cell_type": "markdown",
   "metadata": {
    "id": "bixqwc8Q2cRh"
   },
   "source": [
    "##### Evaluating the model performance"
   ]
  },
  {
   "cell_type": "code",
   "execution_count": null,
   "metadata": {
    "id": "Ji746_J12cRh",
    "outputId": "ebf72eee-1d1a-4702-91c3-1930387c016c"
   },
   "outputs": [
    {
     "name": "stdout",
     "output_type": "stream",
     "text": [
      "\n",
      "         ========================================\n",
      "           CLASSIFICATION REPORT FOR TRAIN DATA\n",
      "         ========================================\n",
      "        \n",
      "              precision    recall  f1-score   support\n",
      "\n",
      "           0     0.8424    0.4017    0.5440       346\n",
      "           1     0.7801    0.3589    0.4916       613\n",
      "           2     0.8335    0.6990    0.7604      1153\n",
      "           3     0.7436    0.9004    0.8146      2039\n",
      "           4     0.9007    0.4367    0.5882       561\n",
      "           5     0.6783    0.6517    0.6648      1961\n",
      "           6     0.8255    0.6632    0.7355       870\n",
      "           7     0.8509    0.9109    0.8799      2268\n",
      "           8     0.8190    0.3763    0.5157       481\n",
      "           9     0.7647    0.9360    0.8417      5873\n",
      "          10     0.8601    0.6324    0.7289       389\n",
      "          11     0.9079    0.6916    0.7851      1083\n",
      "          12     0.8993    0.6496    0.7543       605\n",
      "          13     0.8697    0.9366    0.9019      4859\n",
      "          14     0.8819    0.6852    0.7712       610\n",
      "          15     0.7958    0.4270    0.5558       356\n",
      "          16     0.6955    0.8400    0.7610      3250\n",
      "          17     0.8088    0.3721    0.5097       739\n",
      "          18     0.7517    0.7762    0.7637      1166\n",
      "          19     0.8324    0.4655    0.5970       608\n",
      "\n",
      "    accuracy                         0.7894     29830\n",
      "   macro avg     0.8171    0.6406    0.6983     29830\n",
      "weighted avg     0.7967    0.7894    0.7788     29830\n",
      "\n",
      "\n",
      "             =============================================\n",
      "               CLASSIFICATION REPORT FOR VALIDATION DATA\n",
      "             =============================================\n",
      "            \n",
      "              precision    recall  f1-score   support\n",
      "\n",
      "           0     0.7719    0.3636    0.4944       121\n",
      "           1     0.6812    0.2461    0.3615       191\n",
      "           2     0.8007    0.6234    0.7010       393\n",
      "           3     0.7170    0.8991    0.7978       634\n",
      "           4     0.8000    0.3299    0.4672       194\n",
      "           5     0.6271    0.6015    0.6140       685\n",
      "           6     0.7654    0.6098    0.6788       305\n",
      "           7     0.8230    0.8857    0.8532       735\n",
      "           8     0.7206    0.2634    0.3858       186\n",
      "           9     0.7178    0.9125    0.8035      1965\n",
      "          10     0.7670    0.5766    0.6583       137\n",
      "          11     0.8571    0.6706    0.7525       340\n",
      "          12     0.8873    0.5600    0.6866       225\n",
      "          13     0.8379    0.9202    0.8772      1579\n",
      "          14     0.8571    0.6256    0.7233       211\n",
      "          15     0.6889    0.2331    0.3483       133\n",
      "          16     0.6441    0.8019    0.7144      1070\n",
      "          17     0.7327    0.2960    0.4217       250\n",
      "          18     0.7098    0.7346    0.7220       373\n",
      "          19     0.6838    0.3687    0.4790       217\n",
      "\n",
      "    accuracy                         0.7438      9944\n",
      "   macro avg     0.7545    0.5761    0.6270      9944\n",
      "weighted avg     0.7479    0.7438    0.7274      9944\n",
      "\n"
     ]
    },
    {
     "data": {
      "text/html": [
       "<div>\n",
       "<style scoped>\n",
       "    .dataframe tbody tr th:only-of-type {\n",
       "        vertical-align: middle;\n",
       "    }\n",
       "\n",
       "    .dataframe tbody tr th {\n",
       "        vertical-align: top;\n",
       "    }\n",
       "\n",
       "    .dataframe thead th {\n",
       "        text-align: right;\n",
       "    }\n",
       "</style>\n",
       "<table border=\"1\" class=\"dataframe\">\n",
       "  <thead>\n",
       "    <tr style=\"text-align: right;\">\n",
       "      <th></th>\n",
       "      <th>Model</th>\n",
       "      <th>Train_Accuracy</th>\n",
       "      <th>Train_Recall</th>\n",
       "      <th>Train_Precision</th>\n",
       "      <th>Train_F1_Score</th>\n",
       "      <th>Test_Accuracy</th>\n",
       "      <th>Test_Recall</th>\n",
       "      <th>Test_Precision</th>\n",
       "      <th>Test_F1_Score</th>\n",
       "    </tr>\n",
       "  </thead>\n",
       "  <tbody>\n",
       "    <tr>\n",
       "      <th>0</th>\n",
       "      <td>LogisticRegression</td>\n",
       "      <td>0.868186</td>\n",
       "      <td>0.868186</td>\n",
       "      <td>0.868404</td>\n",
       "      <td>0.866828</td>\n",
       "      <td>0.773431</td>\n",
       "      <td>0.773431</td>\n",
       "      <td>0.770115</td>\n",
       "      <td>0.769406</td>\n",
       "    </tr>\n",
       "    <tr>\n",
       "      <th>1</th>\n",
       "      <td>Ridge</td>\n",
       "      <td>0.789373</td>\n",
       "      <td>0.789373</td>\n",
       "      <td>0.796697</td>\n",
       "      <td>0.778814</td>\n",
       "      <td>0.743765</td>\n",
       "      <td>0.743765</td>\n",
       "      <td>0.747950</td>\n",
       "      <td>0.727447</td>\n",
       "    </tr>\n",
       "  </tbody>\n",
       "</table>\n",
       "</div>"
      ],
      "text/plain": [
       "                Model  Train_Accuracy  Train_Recall  Train_Precision  \\\n",
       "0  LogisticRegression        0.868186      0.868186         0.868404   \n",
       "1               Ridge        0.789373      0.789373         0.796697   \n",
       "\n",
       "   Train_F1_Score  Test_Accuracy  Test_Recall  Test_Precision  Test_F1_Score  \n",
       "0        0.866828       0.773431     0.773431        0.770115       0.769406  \n",
       "1        0.778814       0.743765     0.743765        0.747950       0.727447  "
      ]
     },
     "execution_count": 68,
     "metadata": {
      "tags": []
     },
     "output_type": "execute_result"
    }
   ],
   "source": [
    "scores = get_metrics(y_train,y_pred_train,y_val,y_pred_val,\"Ridge\",scores)\n",
    "scores"
   ]
  },
  {
   "cell_type": "code",
   "execution_count": null,
   "metadata": {
    "id": "A-e84JcW2cRi"
   },
   "outputs": [],
   "source": [
    "y_test = ridge_model.predict(test_data1)\n",
    "test_cuisine = lbl_enc.inverse_transform(y_test)\n",
    "d = pd.DataFrame(test_cuisine)\n",
    "d.to_csv(\"submit_ridge.csv\")"
   ]
  },
  {
   "cell_type": "markdown",
   "metadata": {
    "id": "WkOSEBDR2cRi"
   },
   "source": [
    "# NAIVE BAYES"
   ]
  },
  {
   "cell_type": "code",
   "execution_count": null,
   "metadata": {
    "id": "2p-Mm4RD2cRi"
   },
   "outputs": [],
   "source": [
    "naive = GaussianNB()"
   ]
  },
  {
   "cell_type": "code",
   "execution_count": null,
   "metadata": {
    "id": "0Wby9i-P2cRi",
    "outputId": "dbd55e04-4f3e-4a92-c8d4-b6a7d2c17732",
    "scrolled": true
   },
   "outputs": [
    {
     "data": {
      "text/plain": [
       "GaussianNB()"
      ]
     },
     "execution_count": 71,
     "metadata": {
      "tags": []
     },
     "output_type": "execute_result"
    }
   ],
   "source": [
    "naive.fit(X_train, y_train)"
   ]
  },
  {
   "cell_type": "code",
   "execution_count": null,
   "metadata": {
    "id": "HDdCeoRV2cRj",
    "scrolled": true
   },
   "outputs": [],
   "source": [
    "y_pred_train = naive.predict(X_train)\n",
    "y_pred_val = naive.predict(X_val)"
   ]
  },
  {
   "cell_type": "markdown",
   "metadata": {
    "id": "qnuPhuys2cRk"
   },
   "source": [
    "##### Evaluating the model performance"
   ]
  },
  {
   "cell_type": "code",
   "execution_count": null,
   "metadata": {
    "id": "W5H6rg1c2cRk",
    "outputId": "40496472-0376-40cc-856a-75aead8dc1c3"
   },
   "outputs": [
    {
     "name": "stdout",
     "output_type": "stream",
     "text": [
      "\n",
      "         ========================================\n",
      "           CLASSIFICATION REPORT FOR TRAIN DATA\n",
      "         ========================================\n",
      "        \n",
      "              precision    recall  f1-score   support\n",
      "\n",
      "           0     0.1196    0.8497    0.2096       346\n",
      "           1     0.2949    0.3883    0.3352       613\n",
      "           2     0.3772    0.5620    0.4514      1153\n",
      "           3     0.7953    0.1810    0.2948      2039\n",
      "           4     0.2281    0.5294    0.3188       561\n",
      "           5     0.5011    0.2254    0.3109      1961\n",
      "           6     0.1962    0.3184    0.2428       870\n",
      "           7     0.8618    0.3629    0.5107      2268\n",
      "           8     0.2356    0.5114    0.3226       481\n",
      "           9     0.9866    0.1755    0.2981      5873\n",
      "          10     0.0997    0.9692    0.1808       389\n",
      "          11     0.7794    0.3361    0.4697      1083\n",
      "          12     0.2025    0.9917    0.3363       605\n",
      "          13     0.9753    0.3254    0.4880      4859\n",
      "          14     0.2188    0.8180    0.3452       610\n",
      "          15     0.1214    0.8315    0.2118       356\n",
      "          16     0.7991    0.1726    0.2839      3250\n",
      "          17     0.1417    0.3261    0.1975       739\n",
      "          18     0.4548    0.2547    0.3266      1166\n",
      "          19     0.3089    0.5757    0.4021       608\n",
      "\n",
      "    accuracy                         0.3296     29830\n",
      "   macro avg     0.4349    0.4852    0.3268     29830\n",
      "weighted avg     0.6961    0.3296    0.3552     29830\n",
      "\n",
      "\n",
      "             =============================================\n",
      "               CLASSIFICATION REPORT FOR VALIDATION DATA\n",
      "             =============================================\n",
      "            \n",
      "              precision    recall  f1-score   support\n",
      "\n",
      "           0     0.0907    0.6033    0.1577       121\n",
      "           1     0.1311    0.1832    0.1528       191\n",
      "           2     0.3011    0.4122    0.3480       393\n",
      "           3     0.4646    0.0931    0.1551       634\n",
      "           4     0.1493    0.3402    0.2075       194\n",
      "           5     0.3301    0.1504    0.2066       685\n",
      "           6     0.1224    0.1967    0.1509       305\n",
      "           7     0.7864    0.3456    0.4802       735\n",
      "           8     0.1166    0.2043    0.1484       186\n",
      "           9     0.7766    0.1557    0.2594      1965\n",
      "          10     0.0764    0.7299    0.1383       137\n",
      "          11     0.5833    0.2676    0.3669       340\n",
      "          12     0.1935    0.8267    0.3137       225\n",
      "          13     0.8651    0.3046    0.4506      1579\n",
      "          14     0.1951    0.6730    0.3024       211\n",
      "          15     0.0796    0.4662    0.1360       133\n",
      "          16     0.5142    0.1187    0.1929      1070\n",
      "          17     0.0964    0.2280    0.1356       250\n",
      "          18     0.3318    0.1903    0.2419       373\n",
      "          19     0.2243    0.3917    0.2852       217\n",
      "\n",
      "    accuracy                         0.2572      9944\n",
      "   macro avg     0.3214    0.3441    0.2415      9944\n",
      "weighted avg     0.5314    0.2572    0.2817      9944\n",
      "\n"
     ]
    },
    {
     "data": {
      "text/html": [
       "<div>\n",
       "<style scoped>\n",
       "    .dataframe tbody tr th:only-of-type {\n",
       "        vertical-align: middle;\n",
       "    }\n",
       "\n",
       "    .dataframe tbody tr th {\n",
       "        vertical-align: top;\n",
       "    }\n",
       "\n",
       "    .dataframe thead th {\n",
       "        text-align: right;\n",
       "    }\n",
       "</style>\n",
       "<table border=\"1\" class=\"dataframe\">\n",
       "  <thead>\n",
       "    <tr style=\"text-align: right;\">\n",
       "      <th></th>\n",
       "      <th>Model</th>\n",
       "      <th>Train_Accuracy</th>\n",
       "      <th>Train_Recall</th>\n",
       "      <th>Train_Precision</th>\n",
       "      <th>Train_F1_Score</th>\n",
       "      <th>Test_Accuracy</th>\n",
       "      <th>Test_Recall</th>\n",
       "      <th>Test_Precision</th>\n",
       "      <th>Test_F1_Score</th>\n",
       "    </tr>\n",
       "  </thead>\n",
       "  <tbody>\n",
       "    <tr>\n",
       "      <th>0</th>\n",
       "      <td>LogisticRegression</td>\n",
       "      <td>0.868186</td>\n",
       "      <td>0.868186</td>\n",
       "      <td>0.868404</td>\n",
       "      <td>0.866828</td>\n",
       "      <td>0.773431</td>\n",
       "      <td>0.773431</td>\n",
       "      <td>0.770115</td>\n",
       "      <td>0.769406</td>\n",
       "    </tr>\n",
       "    <tr>\n",
       "      <th>1</th>\n",
       "      <td>Ridge</td>\n",
       "      <td>0.789373</td>\n",
       "      <td>0.789373</td>\n",
       "      <td>0.796697</td>\n",
       "      <td>0.778814</td>\n",
       "      <td>0.743765</td>\n",
       "      <td>0.743765</td>\n",
       "      <td>0.747950</td>\n",
       "      <td>0.727447</td>\n",
       "    </tr>\n",
       "    <tr>\n",
       "      <th>2</th>\n",
       "      <td>Naive Bayes</td>\n",
       "      <td>0.329568</td>\n",
       "      <td>0.329568</td>\n",
       "      <td>0.696056</td>\n",
       "      <td>0.355241</td>\n",
       "      <td>0.257241</td>\n",
       "      <td>0.257241</td>\n",
       "      <td>0.531367</td>\n",
       "      <td>0.281730</td>\n",
       "    </tr>\n",
       "  </tbody>\n",
       "</table>\n",
       "</div>"
      ],
      "text/plain": [
       "                Model  Train_Accuracy  Train_Recall  Train_Precision  \\\n",
       "0  LogisticRegression        0.868186      0.868186         0.868404   \n",
       "1               Ridge        0.789373      0.789373         0.796697   \n",
       "2         Naive Bayes        0.329568      0.329568         0.696056   \n",
       "\n",
       "   Train_F1_Score  Test_Accuracy  Test_Recall  Test_Precision  Test_F1_Score  \n",
       "0        0.866828       0.773431     0.773431        0.770115       0.769406  \n",
       "1        0.778814       0.743765     0.743765        0.747950       0.727447  \n",
       "2        0.355241       0.257241     0.257241        0.531367       0.281730  "
      ]
     },
     "execution_count": 73,
     "metadata": {
      "tags": []
     },
     "output_type": "execute_result"
    }
   ],
   "source": [
    "scores = get_metrics(y_train,y_pred_train,y_val,y_pred_val,\"Naive Bayes\",scores)\n",
    "scores"
   ]
  },
  {
   "cell_type": "markdown",
   "metadata": {
    "id": "czePSCyA2cRk"
   },
   "source": [
    "# KNN"
   ]
  },
  {
   "cell_type": "code",
   "execution_count": null,
   "metadata": {
    "id": "HP96VkJl2cRl"
   },
   "outputs": [],
   "source": [
    "knn = KNeighborsClassifier(algorithm = 'brute',n_neighbors = 7,metric=\"euclidean\")"
   ]
  },
  {
   "cell_type": "code",
   "execution_count": null,
   "metadata": {
    "id": "iJJFI-px2cRl",
    "outputId": "acd9c225-ab28-458e-b3b7-4c996d756140",
    "scrolled": true
   },
   "outputs": [
    {
     "data": {
      "text/plain": [
       "KNeighborsClassifier(algorithm='brute', metric='euclidean', n_neighbors=7)"
      ]
     },
     "execution_count": 75,
     "metadata": {
      "tags": []
     },
     "output_type": "execute_result"
    }
   ],
   "source": [
    "knn.fit(X_train, y_train)"
   ]
  },
  {
   "cell_type": "code",
   "execution_count": null,
   "metadata": {
    "id": "swVhvAvM2cRl",
    "scrolled": true
   },
   "outputs": [],
   "source": [
    "y_pred_train = knn.predict(X_train)\n",
    "y_pred_val = knn.predict(X_val)"
   ]
  },
  {
   "cell_type": "markdown",
   "metadata": {
    "id": "nDtjOY0z2cRl"
   },
   "source": [
    "##### Evaluating the model performance"
   ]
  },
  {
   "cell_type": "code",
   "execution_count": null,
   "metadata": {
    "id": "q53QQmfM2cRm",
    "outputId": "443585b0-3cfd-474c-e4f0-0a0c536722d8"
   },
   "outputs": [
    {
     "name": "stdout",
     "output_type": "stream",
     "text": [
      "\n",
      "         ========================================\n",
      "           CLASSIFICATION REPORT FOR TRAIN DATA\n",
      "         ========================================\n",
      "        \n",
      "              precision    recall  f1-score   support\n",
      "\n",
      "           0     0.5358    0.6272    0.5779       346\n",
      "           1     0.4991    0.4519    0.4743       613\n",
      "           2     0.7575    0.6557    0.7029      1153\n",
      "           3     0.7576    0.8230    0.7889      2039\n",
      "           4     0.5698    0.6916    0.6248       561\n",
      "           5     0.5387    0.6211    0.5770      1961\n",
      "           6     0.6995    0.5966    0.6439       870\n",
      "           7     0.7548    0.8144    0.7835      2268\n",
      "           8     0.6577    0.4595    0.5410       481\n",
      "           9     0.7078    0.8842    0.7862      5873\n",
      "          10     0.8148    0.5090    0.6266       389\n",
      "          11     0.6841    0.6417    0.6622      1083\n",
      "          12     0.7704    0.6711    0.7173       605\n",
      "          13     0.8339    0.8638    0.8486      4859\n",
      "          14     0.7577    0.4869    0.5928       610\n",
      "          15     0.8217    0.2978    0.4371       356\n",
      "          16     0.7522    0.6966    0.7233      3250\n",
      "          17     0.6939    0.3221    0.4399       739\n",
      "          18     0.8815    0.5935    0.7094      1166\n",
      "          19     0.7200    0.4441    0.5493       608\n",
      "\n",
      "    accuracy                         0.7267     29830\n",
      "   macro avg     0.7104    0.6076    0.6404     29830\n",
      "weighted avg     0.7319    0.7267    0.7200     29830\n",
      "\n",
      "\n",
      "             =============================================\n",
      "               CLASSIFICATION REPORT FOR VALIDATION DATA\n",
      "             =============================================\n",
      "            \n",
      "              precision    recall  f1-score   support\n",
      "\n",
      "           0     0.4098    0.4132    0.4115       121\n",
      "           1     0.3333    0.2670    0.2965       191\n",
      "           2     0.6623    0.5140    0.5788       393\n",
      "           3     0.6976    0.7461    0.7210       634\n",
      "           4     0.4515    0.5515    0.4965       194\n",
      "           5     0.4234    0.5080    0.4618       685\n",
      "           6     0.5894    0.4754    0.5263       305\n",
      "           7     0.6695    0.7415    0.7037       735\n",
      "           8     0.4783    0.2957    0.3654       186\n",
      "           9     0.6360    0.8260    0.7186      1965\n",
      "          10     0.7381    0.4526    0.5611       137\n",
      "          11     0.5821    0.5735    0.5778       340\n",
      "          12     0.7049    0.5733    0.6324       225\n",
      "          13     0.7739    0.8087    0.7910      1579\n",
      "          14     0.7288    0.4076    0.5228       211\n",
      "          15     0.4048    0.1278    0.1943       133\n",
      "          16     0.6310    0.6009    0.6156      1070\n",
      "          17     0.4815    0.2080    0.2905       250\n",
      "          18     0.7879    0.4879    0.6026       373\n",
      "          19     0.6231    0.3733    0.4669       217\n",
      "\n",
      "    accuracy                         0.6359      9944\n",
      "   macro avg     0.5904    0.4976    0.5268      9944\n",
      "weighted avg     0.6351    0.6359    0.6255      9944\n",
      "\n"
     ]
    },
    {
     "data": {
      "text/html": [
       "<div>\n",
       "<style scoped>\n",
       "    .dataframe tbody tr th:only-of-type {\n",
       "        vertical-align: middle;\n",
       "    }\n",
       "\n",
       "    .dataframe tbody tr th {\n",
       "        vertical-align: top;\n",
       "    }\n",
       "\n",
       "    .dataframe thead th {\n",
       "        text-align: right;\n",
       "    }\n",
       "</style>\n",
       "<table border=\"1\" class=\"dataframe\">\n",
       "  <thead>\n",
       "    <tr style=\"text-align: right;\">\n",
       "      <th></th>\n",
       "      <th>Model</th>\n",
       "      <th>Train_Accuracy</th>\n",
       "      <th>Train_Recall</th>\n",
       "      <th>Train_Precision</th>\n",
       "      <th>Train_F1_Score</th>\n",
       "      <th>Test_Accuracy</th>\n",
       "      <th>Test_Recall</th>\n",
       "      <th>Test_Precision</th>\n",
       "      <th>Test_F1_Score</th>\n",
       "    </tr>\n",
       "  </thead>\n",
       "  <tbody>\n",
       "    <tr>\n",
       "      <th>0</th>\n",
       "      <td>LogisticRegression</td>\n",
       "      <td>0.868186</td>\n",
       "      <td>0.868186</td>\n",
       "      <td>0.868404</td>\n",
       "      <td>0.866828</td>\n",
       "      <td>0.773431</td>\n",
       "      <td>0.773431</td>\n",
       "      <td>0.770115</td>\n",
       "      <td>0.769406</td>\n",
       "    </tr>\n",
       "    <tr>\n",
       "      <th>1</th>\n",
       "      <td>Ridge</td>\n",
       "      <td>0.789373</td>\n",
       "      <td>0.789373</td>\n",
       "      <td>0.796697</td>\n",
       "      <td>0.778814</td>\n",
       "      <td>0.743765</td>\n",
       "      <td>0.743765</td>\n",
       "      <td>0.747950</td>\n",
       "      <td>0.727447</td>\n",
       "    </tr>\n",
       "    <tr>\n",
       "      <th>2</th>\n",
       "      <td>Naive Bayes</td>\n",
       "      <td>0.329568</td>\n",
       "      <td>0.329568</td>\n",
       "      <td>0.696056</td>\n",
       "      <td>0.355241</td>\n",
       "      <td>0.257241</td>\n",
       "      <td>0.257241</td>\n",
       "      <td>0.531367</td>\n",
       "      <td>0.281730</td>\n",
       "    </tr>\n",
       "    <tr>\n",
       "      <th>3</th>\n",
       "      <td>KNN</td>\n",
       "      <td>0.726685</td>\n",
       "      <td>0.726685</td>\n",
       "      <td>0.731895</td>\n",
       "      <td>0.720043</td>\n",
       "      <td>0.635861</td>\n",
       "      <td>0.635861</td>\n",
       "      <td>0.635146</td>\n",
       "      <td>0.625462</td>\n",
       "    </tr>\n",
       "  </tbody>\n",
       "</table>\n",
       "</div>"
      ],
      "text/plain": [
       "                Model  Train_Accuracy  Train_Recall  Train_Precision  \\\n",
       "0  LogisticRegression        0.868186      0.868186         0.868404   \n",
       "1               Ridge        0.789373      0.789373         0.796697   \n",
       "2         Naive Bayes        0.329568      0.329568         0.696056   \n",
       "3                 KNN        0.726685      0.726685         0.731895   \n",
       "\n",
       "   Train_F1_Score  Test_Accuracy  Test_Recall  Test_Precision  Test_F1_Score  \n",
       "0        0.866828       0.773431     0.773431        0.770115       0.769406  \n",
       "1        0.778814       0.743765     0.743765        0.747950       0.727447  \n",
       "2        0.355241       0.257241     0.257241        0.531367       0.281730  \n",
       "3        0.720043       0.635861     0.635861        0.635146       0.625462  "
      ]
     },
     "execution_count": 77,
     "metadata": {
      "tags": []
     },
     "output_type": "execute_result"
    }
   ],
   "source": [
    "scores = get_metrics(y_train,y_pred_train,y_val,y_pred_val,\"KNN\",scores)\n",
    "scores"
   ]
  },
  {
   "cell_type": "markdown",
   "metadata": {
    "id": "FExBaMYD2cRm"
   },
   "source": [
    "### Instantiate GidSearchCV"
   ]
  },
  {
   "cell_type": "code",
   "execution_count": null,
   "metadata": {
    "id": "in4mJmBd2cRm"
   },
   "outputs": [],
   "source": [
    "parameters = {'n_neighbors':[9,11,15]}\n",
    "\n",
    "gs_clf = GridSearchCV(KNeighborsClassifier(metric=\"euclidean\", n_jobs=-1),\n",
    "                   parameters, verbose= True, cv=3)"
   ]
  },
  {
   "cell_type": "code",
   "execution_count": null,
   "metadata": {
    "id": "MGrs54Io2cRn",
    "outputId": "581a01d9-05de-43ca-92f4-2259ea07bb3e"
   },
   "outputs": [
    {
     "name": "stdout",
     "output_type": "stream",
     "text": [
      "Fitting 3 folds for each of 3 candidates, totalling 9 fits\n"
     ]
    },
    {
     "name": "stderr",
     "output_type": "stream",
     "text": [
      "[Parallel(n_jobs=1)]: Using backend SequentialBackend with 1 concurrent workers.\n",
      "[Parallel(n_jobs=1)]: Done   9 out of   9 | elapsed: 64.7min finished\n"
     ]
    },
    {
     "data": {
      "text/plain": [
       "GridSearchCV(cv=3,\n",
       "             estimator=KNeighborsClassifier(metric='euclidean', n_jobs=-1),\n",
       "             param_grid={'n_neighbors': [9, 11, 15]}, verbose=True)"
      ]
     },
     "execution_count": 79,
     "metadata": {
      "tags": []
     },
     "output_type": "execute_result"
    }
   ],
   "source": [
    "gs_clf.fit(X_train, y_train)"
   ]
  },
  {
   "cell_type": "code",
   "execution_count": null,
   "metadata": {
    "id": "stHrukRE2cRn",
    "outputId": "ff76c09e-43af-4856-8fe8-ad2ec06e20f7"
   },
   "outputs": [
    {
     "data": {
      "text/plain": [
       "KNeighborsClassifier(metric='euclidean', n_jobs=-1, n_neighbors=11)"
      ]
     },
     "execution_count": 80,
     "metadata": {
      "tags": []
     },
     "output_type": "execute_result"
    }
   ],
   "source": [
    "knn_model = gs_clf.best_estimator_\n",
    "knn_model"
   ]
  },
  {
   "cell_type": "code",
   "execution_count": null,
   "metadata": {
    "id": "BOnVTxqd2cRn",
    "outputId": "d333547c-cdf4-46b3-d8d5-30b6dc4767c5"
   },
   "outputs": [
    {
     "name": "stdout",
     "output_type": "stream",
     "text": [
      "0.622896163805453 {'n_neighbors': 11}\n"
     ]
    }
   ],
   "source": [
    "print (gs_clf.best_score_, gs_clf.best_params_) "
   ]
  },
  {
   "cell_type": "code",
   "execution_count": null,
   "metadata": {
    "id": "pIPxuLJ42cRo"
   },
   "outputs": [],
   "source": [
    "y_pred_train = gs_clf.predict(X_train)\n",
    "y_pred_val = gs_clf.predict(X_val)"
   ]
  },
  {
   "cell_type": "code",
   "execution_count": null,
   "metadata": {
    "id": "0_-0QCIk2cRo",
    "outputId": "e278232f-ff9e-44a5-c864-ed814887f058"
   },
   "outputs": [
    {
     "name": "stdout",
     "output_type": "stream",
     "text": [
      "\n",
      "         ========================================\n",
      "           CLASSIFICATION REPORT FOR TRAIN DATA\n",
      "         ========================================\n",
      "        \n",
      "              precision    recall  f1-score   support\n",
      "\n",
      "           0     0.5497    0.5434    0.5465       346\n",
      "           1     0.4665    0.3524    0.4015       613\n",
      "           2     0.7719    0.5958    0.6725      1153\n",
      "           3     0.7526    0.7935    0.7725      2039\n",
      "           4     0.5317    0.6435    0.5823       561\n",
      "           5     0.5192    0.5793    0.5476      1961\n",
      "           6     0.7191    0.5414    0.6177       870\n",
      "           7     0.7317    0.7901    0.7598      2268\n",
      "           8     0.6337    0.3992    0.4898       481\n",
      "           9     0.6758    0.8881    0.7676      5873\n",
      "          10     0.8128    0.4576    0.5855       389\n",
      "          11     0.6520    0.6159    0.6334      1083\n",
      "          12     0.7769    0.6331    0.6976       605\n",
      "          13     0.8134    0.8586    0.8354      4859\n",
      "          14     0.7395    0.4607    0.5677       610\n",
      "          15     0.8182    0.2528    0.3863       356\n",
      "          16     0.6946    0.6942    0.6944      3250\n",
      "          17     0.6989    0.2639    0.3831       739\n",
      "          18     0.8618    0.5617    0.6802      1166\n",
      "          19     0.6818    0.3947    0.5000       608\n",
      "\n",
      "    accuracy                         0.7038     29830\n",
      "   macro avg     0.6951    0.5660    0.6061     29830\n",
      "weighted avg     0.7092    0.7038    0.6941     29830\n",
      "\n",
      "\n",
      "             =============================================\n",
      "               CLASSIFICATION REPORT FOR VALIDATION DATA\n",
      "             =============================================\n",
      "            \n",
      "              precision    recall  f1-score   support\n",
      "\n",
      "           0     0.4862    0.4380    0.4609       121\n",
      "           1     0.3333    0.2251    0.2687       191\n",
      "           2     0.7117    0.4962    0.5847       393\n",
      "           3     0.6947    0.7429    0.7180       634\n",
      "           4     0.4741    0.5670    0.5164       194\n",
      "           5     0.4130    0.4920    0.4490       685\n",
      "           6     0.6291    0.4393    0.5174       305\n",
      "           7     0.6464    0.7388    0.6895       735\n",
      "           8     0.5221    0.3172    0.3946       186\n",
      "           9     0.6231    0.8356    0.7139      1965\n",
      "          10     0.6667    0.3650    0.4717       137\n",
      "          11     0.5957    0.5765    0.5859       340\n",
      "          12     0.6931    0.5822    0.6329       225\n",
      "          13     0.7717    0.8220    0.7961      1579\n",
      "          14     0.6885    0.3981    0.5045       211\n",
      "          15     0.4815    0.0977    0.1625       133\n",
      "          16     0.6181    0.6140    0.6160      1070\n",
      "          17     0.5227    0.1840    0.2722       250\n",
      "          18     0.8325    0.4665    0.5979       373\n",
      "          19     0.6529    0.3641    0.4675       217\n",
      "\n",
      "    accuracy                         0.6351      9944\n",
      "   macro avg     0.6029    0.4881    0.5210      9944\n",
      "weighted avg     0.6364    0.6351    0.6219      9944\n",
      "\n"
     ]
    },
    {
     "data": {
      "text/html": [
       "<div>\n",
       "<style scoped>\n",
       "    .dataframe tbody tr th:only-of-type {\n",
       "        vertical-align: middle;\n",
       "    }\n",
       "\n",
       "    .dataframe tbody tr th {\n",
       "        vertical-align: top;\n",
       "    }\n",
       "\n",
       "    .dataframe thead th {\n",
       "        text-align: right;\n",
       "    }\n",
       "</style>\n",
       "<table border=\"1\" class=\"dataframe\">\n",
       "  <thead>\n",
       "    <tr style=\"text-align: right;\">\n",
       "      <th></th>\n",
       "      <th>Model</th>\n",
       "      <th>Train_Accuracy</th>\n",
       "      <th>Train_Recall</th>\n",
       "      <th>Train_Precision</th>\n",
       "      <th>Train_F1_Score</th>\n",
       "      <th>Test_Accuracy</th>\n",
       "      <th>Test_Recall</th>\n",
       "      <th>Test_Precision</th>\n",
       "      <th>Test_F1_Score</th>\n",
       "    </tr>\n",
       "  </thead>\n",
       "  <tbody>\n",
       "    <tr>\n",
       "      <th>0</th>\n",
       "      <td>LogisticRegression</td>\n",
       "      <td>0.868186</td>\n",
       "      <td>0.868186</td>\n",
       "      <td>0.868404</td>\n",
       "      <td>0.866828</td>\n",
       "      <td>0.773431</td>\n",
       "      <td>0.773431</td>\n",
       "      <td>0.770115</td>\n",
       "      <td>0.769406</td>\n",
       "    </tr>\n",
       "    <tr>\n",
       "      <th>1</th>\n",
       "      <td>Ridge</td>\n",
       "      <td>0.789373</td>\n",
       "      <td>0.789373</td>\n",
       "      <td>0.796697</td>\n",
       "      <td>0.778814</td>\n",
       "      <td>0.743765</td>\n",
       "      <td>0.743765</td>\n",
       "      <td>0.747950</td>\n",
       "      <td>0.727447</td>\n",
       "    </tr>\n",
       "    <tr>\n",
       "      <th>2</th>\n",
       "      <td>Naive Bayes</td>\n",
       "      <td>0.329568</td>\n",
       "      <td>0.329568</td>\n",
       "      <td>0.696056</td>\n",
       "      <td>0.355241</td>\n",
       "      <td>0.257241</td>\n",
       "      <td>0.257241</td>\n",
       "      <td>0.531367</td>\n",
       "      <td>0.281730</td>\n",
       "    </tr>\n",
       "    <tr>\n",
       "      <th>3</th>\n",
       "      <td>KNN</td>\n",
       "      <td>0.726685</td>\n",
       "      <td>0.726685</td>\n",
       "      <td>0.731895</td>\n",
       "      <td>0.720043</td>\n",
       "      <td>0.635861</td>\n",
       "      <td>0.635861</td>\n",
       "      <td>0.635146</td>\n",
       "      <td>0.625462</td>\n",
       "    </tr>\n",
       "    <tr>\n",
       "      <th>4</th>\n",
       "      <td>KNN_best</td>\n",
       "      <td>0.703788</td>\n",
       "      <td>0.703788</td>\n",
       "      <td>0.709236</td>\n",
       "      <td>0.694139</td>\n",
       "      <td>0.635056</td>\n",
       "      <td>0.635056</td>\n",
       "      <td>0.636364</td>\n",
       "      <td>0.621851</td>\n",
       "    </tr>\n",
       "  </tbody>\n",
       "</table>\n",
       "</div>"
      ],
      "text/plain": [
       "                Model  Train_Accuracy  Train_Recall  Train_Precision  \\\n",
       "0  LogisticRegression        0.868186      0.868186         0.868404   \n",
       "1               Ridge        0.789373      0.789373         0.796697   \n",
       "2         Naive Bayes        0.329568      0.329568         0.696056   \n",
       "3                 KNN        0.726685      0.726685         0.731895   \n",
       "4            KNN_best        0.703788      0.703788         0.709236   \n",
       "\n",
       "   Train_F1_Score  Test_Accuracy  Test_Recall  Test_Precision  Test_F1_Score  \n",
       "0        0.866828       0.773431     0.773431        0.770115       0.769406  \n",
       "1        0.778814       0.743765     0.743765        0.747950       0.727447  \n",
       "2        0.355241       0.257241     0.257241        0.531367       0.281730  \n",
       "3        0.720043       0.635861     0.635861        0.635146       0.625462  \n",
       "4        0.694139       0.635056     0.635056        0.636364       0.621851  "
      ]
     },
     "execution_count": 83,
     "metadata": {
      "tags": []
     },
     "output_type": "execute_result"
    }
   ],
   "source": [
    "scores = get_metrics(y_train,y_pred_train,y_val,y_pred_val,\"KNN_best\",scores)\n",
    "scores"
   ]
  },
  {
   "cell_type": "code",
   "execution_count": null,
   "metadata": {
    "id": "9Hs0BmYs2cRo"
   },
   "outputs": [],
   "source": [
    "## Predicting on test\n",
    "y_test = gs_clf.predict(test_data1)\n",
    "test_cuisine = lbl_enc.inverse_transform(y_test)\n",
    "d = pd.DataFrame(test_cuisine)\n",
    "d.to_csv(\"submit_knn.csv\")"
   ]
  },
  {
   "cell_type": "markdown",
   "metadata": {
    "id": "0zLg2Pc72cRp"
   },
   "source": [
    "# SVC with OVR mode"
   ]
  },
  {
   "cell_type": "code",
   "execution_count": 63,
   "metadata": {
    "colab": {
     "base_uri": "https://localhost:8080/"
    },
    "executionInfo": {
     "elapsed": 72655,
     "status": "ok",
     "timestamp": 1622633353191,
     "user": {
      "displayName": "Himanshu Rai",
      "photoUrl": "",
      "userId": "05553162241328899148"
     },
     "user_tz": -330
    },
    "id": "RRP3LBWWeoro",
    "outputId": "d2a6e3c4-35db-43a5-f2ee-b39695a6ddc4"
   },
   "outputs": [
    {
     "data": {
      "text/plain": [
       "array([6.98055813e-02, 4.00359056e-02, 3.50639926e-02, ...,\n",
       "       8.93956848e-36, 8.33579253e-36, 9.16912737e-37])"
      ]
     },
     "execution_count": 63,
     "metadata": {
      "tags": []
     },
     "output_type": "execute_result"
    }
   ],
   "source": [
    "from sklearn.decomposition import PCA\n",
    "pca = PCA()\n",
    "X_train1 = pca.fit_transform(X_train)\n",
    "pca.explained_variance_ratio_"
   ]
  },
  {
   "cell_type": "code",
   "execution_count": 64,
   "metadata": {
    "colab": {
     "base_uri": "https://localhost:8080/"
    },
    "executionInfo": {
     "elapsed": 330,
     "status": "ok",
     "timestamp": 1622633366352,
     "user": {
      "displayName": "Himanshu Rai",
      "photoUrl": "",
      "userId": "05553162241328899148"
     },
     "user_tz": -330
    },
    "id": "CLALK8fyeogR",
    "outputId": "923e914b-7bec-45c1-d223-ea5efbf081c7"
   },
   "outputs": [
    {
     "name": "stdout",
     "output_type": "stream",
     "text": [
      "The number of dimensions required to preserve 90% of variance is 301\n"
     ]
    }
   ],
   "source": [
    "cumsum = np.cumsum(pca.explained_variance_ratio_)\n",
    "dim = np.argmax(cumsum >= 0.90) + 1\n",
    "print('The number of dimensions required to preserve 90% of variance is',dim)"
   ]
  },
  {
   "cell_type": "code",
   "execution_count": 65,
   "metadata": {
    "colab": {
     "base_uri": "https://localhost:8080/",
     "height": 388
    },
    "executionInfo": {
     "elapsed": 529,
     "status": "ok",
     "timestamp": 1622633374755,
     "user": {
      "displayName": "Himanshu Rai",
      "photoUrl": "",
      "userId": "05553162241328899148"
     },
     "user_tz": -330
    },
    "id": "0qrpiEx_eoX0",
    "outputId": "c00ed80c-4a0c-47b6-9929-8f62ed6e02d3"
   },
   "outputs": [
    {
     "data": {
      "image/png": "[encoded data removed]",
      "text/plain": [
       "<Figure size 576x432 with 1 Axes>"
      ]
     },
     "metadata": {
      "needs_background": "light",
      "tags": []
     },
     "output_type": "display_data"
    }
   ],
   "source": [
    "from matplotlib import pyplot as plt\n",
    "plt.figure(figsize=(8,6))\n",
    "plt.plot(np.cumsum(pca.explained_variance_ratio_))\n",
    "plt.xlim(0,95,1)\n",
    "plt.xlabel('Number of components')\n",
    "plt.ylabel('Cumulative explained variance')\n",
    "plt.show()"
   ]
  },
  {
   "cell_type": "code",
   "execution_count": 68,
   "metadata": {
    "colab": {
     "base_uri": "https://localhost:8080/"
    },
    "executionInfo": {
     "elapsed": 5121,
     "status": "ok",
     "timestamp": 1622633460860,
     "user": {
      "displayName": "Himanshu Rai",
      "photoUrl": "",
      "userId": "05553162241328899148"
     },
     "user_tz": -330
    },
    "id": "GDjhReTweoOW",
    "outputId": "f79d870b-2bf7-411b-fa1b-0a5fcffd8ad2"
   },
   "outputs": [
    {
     "name": "stdout",
     "output_type": "stream",
     "text": [
      "(29830, 301)\n",
      "(9944, 301)\n"
     ]
    }
   ],
   "source": [
    "X_train_pca=X_train1[: ,0:301]\n",
    "X_val_pca=pca.transform(X_val)[:,0:301]\n",
    "print(X_train_pca.shape)\n",
    "print(X_val_pca.shape)"
   ]
  },
  {
   "cell_type": "code",
   "execution_count": 69,
   "metadata": {
    "executionInfo": {
     "elapsed": 333,
     "status": "ok",
     "timestamp": 1622633466904,
     "user": {
      "displayName": "Himanshu Rai",
      "photoUrl": "",
      "userId": "05553162241328899148"
     },
     "user_tz": -330
    },
    "id": "fTzIHgpM2cRp"
   },
   "outputs": [],
   "source": [
    "from sklearn.multiclass import OneVsRestClassifier"
   ]
  },
  {
   "cell_type": "code",
   "execution_count": 70,
   "metadata": {
    "executionInfo": {
     "elapsed": 402,
     "status": "ok",
     "timestamp": 1622633480912,
     "user": {
      "displayName": "Himanshu Rai",
      "photoUrl": "",
      "userId": "05553162241328899148"
     },
     "user_tz": -330
    },
    "id": "kpVvRnoN2cRq"
   },
   "outputs": [],
   "source": [
    "clf = SVC(C=100, kernel='rbf', degree=3,\n",
    "          gamma=1, coef0=1, shrinking=True, \n",
    "          probability=False, tol=0.001, cache_size=200,\n",
    "          class_weight=None, verbose=True, max_iter=-1,\n",
    "          decision_function_shape='ovr', random_state=None)\n",
    "model = OneVsRestClassifier(clf, n_jobs=-1)\n"
   ]
  },
  {
   "cell_type": "code",
   "execution_count": 71,
   "metadata": {
    "colab": {
     "base_uri": "https://localhost:8080/"
    },
    "executionInfo": {
     "elapsed": 18528935,
     "status": "ok",
     "timestamp": 1622652014782,
     "user": {
      "displayName": "Himanshu Rai",
      "photoUrl": "",
      "userId": "05553162241328899148"
     },
     "user_tz": -330
    },
    "id": "faFq7CtyfgkY",
    "outputId": "68d9cce1-6fd4-49ba-a3df-5bf8aabf0d97"
   },
   "outputs": [
    {
     "data": {
      "text/plain": [
       "OneVsRestClassifier(estimator=SVC(C=100, break_ties=False, cache_size=200,\n",
       "                                  class_weight=None, coef0=1,\n",
       "                                  decision_function_shape='ovr', degree=3,\n",
       "                                  gamma=1, kernel='rbf', max_iter=-1,\n",
       "                                  probability=False, random_state=None,\n",
       "                                  shrinking=True, tol=0.001, verbose=True),\n",
       "                    n_jobs=-1)"
      ]
     },
     "execution_count": 71,
     "metadata": {
      "tags": []
     },
     "output_type": "execute_result"
    }
   ],
   "source": [
    "model.fit(X_train_pca,y_train)"
   ]
  },
  {
   "cell_type": "markdown",
   "metadata": {
    "id": "OLef31DT2cRq"
   },
   "source": [
    "#### Predict"
   ]
  },
  {
   "cell_type": "code",
   "execution_count": 73,
   "metadata": {
    "executionInfo": {
     "elapsed": 10124028,
     "status": "ok",
     "timestamp": 1622662875147,
     "user": {
      "displayName": "Himanshu Rai",
      "photoUrl": "",
      "userId": "05553162241328899148"
     },
     "user_tz": -330
    },
    "id": "Z-HmqDoy2cRq",
    "scrolled": true
   },
   "outputs": [],
   "source": [
    "y_pred_train = model.predict(X_train_pca)\n",
    "y_pred_val = model.predict(X_val_pca)"
   ]
  },
  {
   "cell_type": "code",
   "execution_count": 74,
   "metadata": {
    "colab": {
     "base_uri": "https://localhost:8080/",
     "height": 1000
    },
    "executionInfo": {
     "elapsed": 355,
     "status": "ok",
     "timestamp": 1622662929345,
     "user": {
      "displayName": "Himanshu Rai",
      "photoUrl": "",
      "userId": "05553162241328899148"
     },
     "user_tz": -330
    },
    "id": "d2mcdkE-2cRq",
    "outputId": "484ded46-f9fe-4cd6-e169-0c69546255e0",
    "scrolled": true
   },
   "outputs": [
    {
     "name": "stdout",
     "output_type": "stream",
     "text": [
      "\n",
      "         ========================================\n",
      "           CLASSIFICATION REPORT FOR TRAIN DATA\n",
      "         ========================================\n",
      "        \n",
      "              precision    recall  f1-score   support\n",
      "\n",
      "           0     1.0000    1.0000    1.0000       346\n",
      "           1     1.0000    1.0000    1.0000       613\n",
      "           2     1.0000    1.0000    1.0000      1153\n",
      "           3     0.9995    1.0000    0.9998      2039\n",
      "           4     1.0000    1.0000    1.0000       561\n",
      "           5     0.9990    0.9995    0.9992      1961\n",
      "           6     1.0000    0.9989    0.9994       870\n",
      "           7     0.9996    0.9996    0.9996      2268\n",
      "           8     0.9979    0.9979    0.9979       481\n",
      "           9     0.9995    1.0000    0.9997      5873\n",
      "          10     1.0000    1.0000    1.0000       389\n",
      "          11     1.0000    0.9991    0.9995      1083\n",
      "          12     1.0000    1.0000    1.0000       605\n",
      "          13     0.9998    0.9998    0.9998      4859\n",
      "          14     0.9984    1.0000    0.9992       610\n",
      "          15     1.0000    1.0000    1.0000       356\n",
      "          16     0.9997    0.9997    0.9997      3250\n",
      "          17     1.0000    0.9986    0.9993       739\n",
      "          18     1.0000    0.9991    0.9996      1166\n",
      "          19     1.0000    0.9967    0.9984       608\n",
      "\n",
      "    accuracy                         0.9996     29830\n",
      "   macro avg     0.9997    0.9994    0.9996     29830\n",
      "weighted avg     0.9996    0.9996    0.9996     29830\n",
      "\n",
      "\n",
      "             =============================================\n",
      "               CLASSIFICATION REPORT FOR VALIDATION DATA\n",
      "             =============================================\n",
      "            \n",
      "              precision    recall  f1-score   support\n",
      "\n",
      "           0     0.7778    0.2314    0.3567       121\n",
      "           1     0.4000    0.0524    0.0926       191\n",
      "           2     0.7895    0.0382    0.0728       393\n",
      "           3     0.8077    0.0331    0.0636       634\n",
      "           4     0.7333    0.0567    0.1053       194\n",
      "           5     0.7561    0.0905    0.1617       685\n",
      "           6     0.7333    0.0361    0.0688       305\n",
      "           7     0.6923    0.0612    0.1125       735\n",
      "           8     0.7000    0.0753    0.1359       186\n",
      "           9     0.2128    0.9873    0.3501      1965\n",
      "          10     0.7857    0.0803    0.1457       137\n",
      "          11     0.8704    0.1382    0.2386       340\n",
      "          12     0.9000    0.0400    0.0766       225\n",
      "          13     0.7795    0.0963    0.1714      1579\n",
      "          14     0.9091    0.0474    0.0901       211\n",
      "          15     0.7500    0.0226    0.0438       133\n",
      "          16     0.7181    0.1262    0.2146      1070\n",
      "          17     0.8750    0.0560    0.1053       250\n",
      "          18     0.9231    0.0322    0.0622       373\n",
      "          19     0.9500    0.0876    0.1603       217\n",
      "\n",
      "    accuracy                         0.2583      9944\n",
      "   macro avg     0.7532    0.1194    0.1414      9944\n",
      "weighted avg     0.6637    0.2583    0.1816      9944\n",
      "\n"
     ]
    },
    {
     "data": {
      "text/html": [
       "<div>\n",
       "<style scoped>\n",
       "    .dataframe tbody tr th:only-of-type {\n",
       "        vertical-align: middle;\n",
       "    }\n",
       "\n",
       "    .dataframe tbody tr th {\n",
       "        vertical-align: top;\n",
       "    }\n",
       "\n",
       "    .dataframe thead th {\n",
       "        text-align: right;\n",
       "    }\n",
       "</style>\n",
       "<table border=\"1\" class=\"dataframe\">\n",
       "  <thead>\n",
       "    <tr style=\"text-align: right;\">\n",
       "      <th></th>\n",
       "      <th>Model</th>\n",
       "      <th>Train_Accuracy</th>\n",
       "      <th>Train_Recall</th>\n",
       "      <th>Train_Precision</th>\n",
       "      <th>Train_F1_Score</th>\n",
       "      <th>Test_Accuracy</th>\n",
       "      <th>Test_Recall</th>\n",
       "      <th>Test_Precision</th>\n",
       "      <th>Test_F1_Score</th>\n",
       "    </tr>\n",
       "  </thead>\n",
       "  <tbody>\n",
       "    <tr>\n",
       "      <th>0</th>\n",
       "      <td>SVC_OVR_pca</td>\n",
       "      <td>0.999631</td>\n",
       "      <td>0.999631</td>\n",
       "      <td>0.999631</td>\n",
       "      <td>0.999631</td>\n",
       "      <td>0.258347</td>\n",
       "      <td>0.258347</td>\n",
       "      <td>0.663711</td>\n",
       "      <td>0.18158</td>\n",
       "    </tr>\n",
       "  </tbody>\n",
       "</table>\n",
       "</div>"
      ],
      "text/plain": [
       "         Model  Train_Accuracy  ...  Test_Precision  Test_F1_Score\n",
       "0  SVC_OVR_pca        0.999631  ...        0.663711        0.18158\n",
       "\n",
       "[1 rows x 9 columns]"
      ]
     },
     "execution_count": 74,
     "metadata": {
      "tags": []
     },
     "output_type": "execute_result"
    }
   ],
   "source": [
    "scores = get_metrics(y_train,y_pred_train,y_val,y_pred_val,\"SVC_OVR_pca\",scores)\n",
    "scores"
   ]
  },
  {
   "cell_type": "code",
   "execution_count": 75,
   "metadata": {
    "executionInfo": {
     "elapsed": 7269,
     "status": "ok",
     "timestamp": 1622662947597,
     "user": {
      "displayName": "Himanshu Rai",
      "photoUrl": "",
      "userId": "05553162241328899148"
     },
     "user_tz": -330
    },
    "id": "A9HPLGT-G0iB"
   },
   "outputs": [],
   "source": [
    "# save the model to disk\n",
    "import pickle\n",
    "filename = 'svm_ovr.pkl'\n",
    "pickle.dump(model, open(filename, 'wb'))"
   ]
  },
  {
   "cell_type": "code",
   "execution_count": null,
   "metadata": {
    "id": "kIG4w_ce2cRr"
   },
   "outputs": [],
   "source": [
    "## Predicting on test\n",
    "test_data_pca=pca.transform(test_data1)[:,0:301]\n",
    "y_test = model.predict(test_data_pca)\n",
    "test_cuisine = lbl_enc.inverse_transform(y_test)\n",
    "d = pd.DataFrame(test_cuisine)\n",
    "d.to_csv(\"/content/drive/MyDrive/Whats_Cooking/submit_svm.csv\")"
   ]
  }
 ],
 "metadata": {
  "accelerator": "GPU",
  "colab": {
   "collapsed_sections": [
    "3pMomtgT2cQ_",
    "2jLt4KqV2cRG",
    "dosMZ3Bz2cRI",
    "MfKrFzZQ2cRN",
    "87fOsbOl2cRS",
    "mSyT_tOx2cRV",
    "R9tIUGVy2cRc",
    "LLLTFsJP2cRd",
    "2Y6n5X382cRd",
    "2HdlbgIb2cRg",
    "WkOSEBDR2cRi",
    "czePSCyA2cRk",
    "FExBaMYD2cRm",
    "pzI17ytL2cRr",
    "oB8CUmp62cRs",
    "X4PZChxs2cRt",
    "gv4rbip32cRt",
    "xJ7PNmiw2cRu"
   ],
   "name": "Whats_Cooking.ipynb",
   "provenance": []
  },
  "kernelspec": {
   "display_name": "Python 3",
   "language": "python",
   "name": "python3"
  },
  "language_info": {
   "codemirror_mode": {
    "name": "ipython",
    "version": 3
   },
   "file_extension": ".py",
   "mimetype": "text/x-python",
   "name": "python",
   "nbconvert_exporter": "python",
   "pygments_lexer": "ipython3",
   "version": "3.7.6"
  }
 },
 "nbformat": 4,
 "nbformat_minor": 1
}
